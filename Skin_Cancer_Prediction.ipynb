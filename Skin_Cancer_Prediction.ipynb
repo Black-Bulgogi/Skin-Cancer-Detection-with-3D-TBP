{
  "metadata": {
    "kaggle": {
      "accelerator": "nvidiaTeslaT4",
      "dataSources": [
        {
          "sourceId": 63056,
          "databundleVersionId": 9094797,
          "sourceType": "competition"
        },
        {
          "sourceId": 8982084,
          "sourceType": "datasetVersion",
          "datasetId": 5406640
        },
        {
          "sourceId": 8991790,
          "sourceType": "datasetVersion",
          "datasetId": 5415918
        },
        {
          "sourceId": 186147615,
          "sourceType": "kernelVersion"
        },
        {
          "sourceId": 186149019,
          "sourceType": "kernelVersion"
        },
        {
          "sourceId": 187730674,
          "sourceType": "kernelVersion"
        },
        {
          "sourceId": 188543089,
          "sourceType": "kernelVersion"
        },
        {
          "sourceId": 188543756,
          "sourceType": "kernelVersion"
        },
        {
          "sourceId": 188602899,
          "sourceType": "kernelVersion"
        },
        {
          "sourceId": 188603204,
          "sourceType": "kernelVersion"
        },
        {
          "sourceId": 188603902,
          "sourceType": "kernelVersion"
        },
        {
          "sourceId": 190801726,
          "sourceType": "kernelVersion"
        },
        {
          "sourceId": 190815443,
          "sourceType": "kernelVersion"
        },
        {
          "sourceId": 190817588,
          "sourceType": "kernelVersion"
        }
      ],
      "dockerImageVersionId": 30747,
      "isInternetEnabled": false,
      "language": "python",
      "sourceType": "notebook",
      "isGpuEnabled": true
    },
    "kernelspec": {
      "display_name": "Python 3",
      "language": "python",
      "name": "python3"
    },
    "language_info": {
      "codemirror_mode": {
        "name": "ipython",
        "version": 3
      },
      "file_extension": ".py",
      "mimetype": "text/x-python",
      "name": "python",
      "nbconvert_exporter": "python",
      "pygments_lexer": "ipython3",
      "version": "3.10.13"
    },
    "papermill": {
      "default_parameters": {},
      "duration": 356.781367,
      "end_time": "2024-08-16T07:28:57.480278",
      "environment_variables": {},
      "exception": null,
      "input_path": "__notebook__.ipynb",
      "output_path": "__notebook__.ipynb",
      "parameters": {},
      "start_time": "2024-08-16T07:23:00.698911",
      "version": "2.5.0"
    },
    "colab": {
      "name": "Skin Cancer Prediction - add image vector",
      "provenance": []
    }
  },
  "nbformat_minor": 0,
  "nbformat": 4,
  "cells": [
    {
      "source": [
        "\n",
        "# IMPORTANT: RUN THIS CELL IN ORDER TO IMPORT YOUR KAGGLE DATA SOURCES\n",
        "# TO THE CORRECT LOCATION (/kaggle/input) IN YOUR NOTEBOOK,\n",
        "# THEN FEEL FREE TO DELETE THIS CELL.\n",
        "# NOTE: THIS NOTEBOOK ENVIRONMENT DIFFERS FROM KAGGLE'S PYTHON\n",
        "# ENVIRONMENT SO THERE MAY BE MISSING LIBRARIES USED BY YOUR\n",
        "# NOTEBOOK.\n",
        "\n",
        "import os\n",
        "import sys\n",
        "from tempfile import NamedTemporaryFile\n",
        "from urllib.request import urlopen\n",
        "from urllib.parse import unquote, urlparse\n",
        "from urllib.error import HTTPError\n",
        "from zipfile import ZipFile\n",
        "import tarfile\n",
        "import shutil\n",
        "\n",
        "CHUNK_SIZE = 40960\n",
        "DATA_SOURCE_MAPPING = 'isic-2024-challenge:https%3A%2F%2Fstorage.googleapis.com%2Fkaggle-competitions-data%2Fkaggle-v2%2F63056%2F9094797%2Fbundle%2Farchive.zip%3FX-Goog-Algorithm%3DGOOG4-RSA-SHA256%26X-Goog-Credential%3Dgcp-kaggle-com%2540kaggle-161607.iam.gserviceaccount.com%252F20240903%252Fauto%252Fstorage%252Fgoog4_request%26X-Goog-Date%3D20240903T080604Z%26X-Goog-Expires%3D259200%26X-Goog-SignedHeaders%3Dhost%26X-Goog-Signature%3Db1da4f18f93c4d2885a49bc6d3a4be9a764541dcf920eb6adda6fcb720e2050dd69e06cce494578de8fd46f21bfb580aa74b246309614c318a2071bf74783d28c32213537a20b18848b4eec7c497c9c7659bf4c275671936e5c193ada9a88878d904cb77bb93cb566f1b2cb623797f4a7b0ab5ced2fd14d4e026f5c14579c8e7d09556273a1363f483a6c65e5770deea81ac427ba55dc6ca4a05bfeffe67c6703734e3e80a36a0cc1b313ae0cf1541a829731c6d857f4d65773203e05921fbf3e2efaa1a5480afb37f0e6ebcd6604d14663c6eef0b5766a03a5d7730c70abc19fff56fdc30d64a77b21f9036b93090c6e5682883dc86c18d259b8a91903e3505,isic-2024-fails:https%3A%2F%2Fstorage.googleapis.com%2Fkaggle-data-sets%2F5406640%2F8982084%2Fbundle%2Farchive.zip%3FX-Goog-Algorithm%3DGOOG4-RSA-SHA256%26X-Goog-Credential%3Dgcp-kaggle-com%2540kaggle-161607.iam.gserviceaccount.com%252F20240903%252Fauto%252Fstorage%252Fgoog4_request%26X-Goog-Date%3D20240903T080605Z%26X-Goog-Expires%3D259200%26X-Goog-SignedHeaders%3Dhost%26X-Goog-Signature%3D7c2183fa3135bba3409994f1c5a290d9c2d550a5f9ff22cb80f1d903d1266cdf965c94926163bdb0976233e29b4e784ca835448dd83dfd9f1867e5ec010a290ba52b22cc03a9afc432ea980884cdeefa97f253ef97a8e547807bba115d0f61ade4abf84523d4f876b8df6f15654ceefb96b3b4139956b95692b800e7c34e029f82d6866f3c5691edba0de96ff97540ca9ba71f3c10bd254ec86574bf95e9de5905bba304222c684044e177c2c1f3aadf7aa0b1621ed501cde3a1a04ce1ec788ba59bc5c59c8b22d14d33adb06a172127cc11fdd90f88bb3a061aa5608f3f2b59f23d842014b39336646b58b62fb16422faba855521b8be096fd53f6f2e529b26,isic-2024-pl-submission-script-and-preds:https%3A%2F%2Fstorage.googleapis.com%2Fkaggle-data-sets%2F5415918%2F8991790%2Fbundle%2Farchive.zip%3FX-Goog-Algorithm%3DGOOG4-RSA-SHA256%26X-Goog-Credential%3Dgcp-kaggle-com%2540kaggle-161607.iam.gserviceaccount.com%252F20240903%252Fauto%252Fstorage%252Fgoog4_request%26X-Goog-Date%3D20240903T080605Z%26X-Goog-Expires%3D259200%26X-Goog-SignedHeaders%3Dhost%26X-Goog-Signature%3Db30c40a3b1269e12ced1dff0d30ac41672adcd0f770ef8d9573bcc5cb7bc25e2fb4828984369542dec0eb046e8adc3dc81013ef6146f9e87d4e9e6ee9eda52ea54d143c2fab5fd4245b46427f0adecada321dcb6935eb82dabfc31f95736b3744fbac079c010d89760a5687b4f848ef99a991bbdb3751177692ab019445b2ddaf981a0d553fcef002c664550c27e0672a851830287ba7710382a425abdef79c82feb0e20a14208dcbcc6f8c661ed9af8be4cc706e45084f342205a763bad0d4c3b153eeddedc93e48d361aa096ece051688d68838bd314d0226584dab084302722696ae4eff7f74207651711affbd88dc1a6c31f2b6d832bfbac36c1e1b60d26'\n",
        "\n",
        "KAGGLE_INPUT_PATH='/kaggle/input'\n",
        "KAGGLE_WORKING_PATH='/kaggle/working'\n",
        "KAGGLE_SYMLINK='kaggle'\n",
        "\n",
        "!umount /kaggle/input/ 2> /dev/null\n",
        "shutil.rmtree('/kaggle/input', ignore_errors=True)\n",
        "os.makedirs(KAGGLE_INPUT_PATH, 0o777, exist_ok=True)\n",
        "os.makedirs(KAGGLE_WORKING_PATH, 0o777, exist_ok=True)\n",
        "\n",
        "try:\n",
        "  os.symlink(KAGGLE_INPUT_PATH, os.path.join(\"..\", 'input'), target_is_directory=True)\n",
        "except FileExistsError:\n",
        "  pass\n",
        "try:\n",
        "  os.symlink(KAGGLE_WORKING_PATH, os.path.join(\"..\", 'working'), target_is_directory=True)\n",
        "except FileExistsError:\n",
        "  pass\n",
        "\n",
        "for data_source_mapping in DATA_SOURCE_MAPPING.split(','):\n",
        "    directory, download_url_encoded = data_source_mapping.split(':')\n",
        "    download_url = unquote(download_url_encoded)\n",
        "    filename = urlparse(download_url).path\n",
        "    destination_path = os.path.join(KAGGLE_INPUT_PATH, directory)\n",
        "    try:\n",
        "        with urlopen(download_url) as fileres, NamedTemporaryFile() as tfile:\n",
        "            total_length = fileres.headers['content-length']\n",
        "            print(f'Downloading {directory}, {total_length} bytes compressed')\n",
        "            dl = 0\n",
        "            data = fileres.read(CHUNK_SIZE)\n",
        "            while len(data) > 0:\n",
        "                dl += len(data)\n",
        "                tfile.write(data)\n",
        "                done = int(50 * dl / int(total_length))\n",
        "                sys.stdout.write(f\"\\r[{'=' * done}{' ' * (50-done)}] {dl} bytes downloaded\")\n",
        "                sys.stdout.flush()\n",
        "                data = fileres.read(CHUNK_SIZE)\n",
        "            if filename.endswith('.zip'):\n",
        "              with ZipFile(tfile) as zfile:\n",
        "                zfile.extractall(destination_path)\n",
        "            else:\n",
        "              with tarfile.open(tfile.name) as tarfile:\n",
        "                tarfile.extractall(destination_path)\n",
        "            print(f'\\nDownloaded and uncompressed: {directory}')\n",
        "    except HTTPError as e:\n",
        "        print(f'Failed to load (likely expired) {download_url} to path {destination_path}')\n",
        "        continue\n",
        "    except OSError as e:\n",
        "        print(f'Failed to load {download_url} to path {destination_path}')\n",
        "        continue\n",
        "\n",
        "print('Data source import complete.')\n"
      ],
      "metadata": {
        "id": "a940AU6F623E"
      },
      "cell_type": "code",
      "outputs": [],
      "execution_count": null
    },
    {
      "cell_type": "markdown",
      "source": [
        "![Skin cancer](http://www.cdc.gov/skin-cancer/media/images/skin-illustration-16x9-1.jpg)"
      ],
      "metadata": {
        "id": "ePRX9FVN623G"
      }
    },
    {
      "cell_type": "code",
      "source": [
        "import os\n",
        "from pathlib import Path\n",
        "\n",
        "import numpy as np\n",
        "import pandas as pd\n",
        "import polars as pl\n",
        "\n",
        "from sklearn.model_selection import StratifiedGroupKFold\n",
        "from sklearn.model_selection import cross_val_score\n",
        "from sklearn.preprocessing import OneHotEncoder\n",
        "from sklearn.metrics import roc_auc_score\n",
        "from sklearn.ensemble import VotingClassifier\n",
        "\n",
        "from imblearn.under_sampling import RandomUnderSampler\n",
        "from imblearn.pipeline import Pipeline\n",
        "from imblearn.over_sampling import RandomOverSampler\n",
        "\n",
        "\n",
        "import lightgbm as lgb\n",
        "import catboost as cb\n",
        "import xgboost as xgb\n",
        "\n",
        "import optuna\n",
        "from optuna.samplers import TPESampler\n",
        "\n",
        "#downsampling techniques\n",
        "# they took long time, so we use RandomUnderSampler\n",
        "from imblearn.under_sampling import NearMiss\n",
        "from imblearn.under_sampling import ClusterCentroids\n",
        "from imblearn.under_sampling import TomekLinks\n",
        "from imblearn.under_sampling import EditedNearestNeighbours\n",
        "from imblearn.pipeline import Pipeline as ImbPipeline\n",
        "from imblearn.under_sampling import NearMiss, TomekLinks\n",
        "from sklearn.impute import SimpleImputer\n",
        "\n",
        "import time\n",
        "from sklearn.feature_selection import SelectKBest, chi2, mutual_info_classif, VarianceThreshold\n"
      ],
      "metadata": {
        "papermill": {
          "duration": 5.992512,
          "end_time": "2024-08-16T07:23:09.462094",
          "exception": false,
          "start_time": "2024-08-16T07:23:03.469582",
          "status": "completed"
        },
        "tags": [],
        "execution": {
          "iopub.status.busy": "2024-09-02T16:48:57.46567Z",
          "iopub.execute_input": "2024-09-02T16:48:57.466192Z"
        },
        "trusted": true,
        "id": "Jfn1Nomx623H"
      },
      "execution_count": null,
      "outputs": []
    },
    {
      "cell_type": "code",
      "source": [
        "import os\n",
        "import gc\n",
        "import time\n",
        "import copy\n",
        "import optuna\n",
        "\n",
        "from pathlib import Path\n",
        "\n",
        "import numpy as np, pandas as pd, polars as pl\n",
        "\n",
        "from sklearn.model_selection import GroupKFold\n",
        "from sklearn.model_selection import StratifiedGroupKFold\n",
        "from sklearn.model_selection import cross_val_score\n",
        "from sklearn.preprocessing import OneHotEncoder\n",
        "from sklearn.metrics import roc_auc_score\n",
        "from sklearn.metrics import mean_squared_error\n",
        "from sklearn.ensemble import VotingClassifier\n",
        "\n",
        "from sklearn.utils import resample\n",
        "\n",
        "from imblearn.under_sampling import RandomUnderSampler\n",
        "from imblearn.pipeline import Pipeline\n",
        "from imblearn.over_sampling import RandomOverSampler\n",
        "\n",
        "import lightgbm as lgb, catboost as cb, xgboost as xgb\n",
        "\n",
        "from optuna.samplers import TPESampler\n",
        "\n",
        "from imblearn.under_sampling import NearMiss\n",
        "from imblearn.under_sampling import ClusterCentroids\n",
        "from imblearn.under_sampling import TomekLinks\n",
        "from imblearn.under_sampling import EditedNearestNeighbours\n",
        "# from imblearn.pipeline import Pipeline as ImbPipeline\n",
        "from imblearn.under_sampling import NearMiss, TomekLinks\n",
        "from sklearn.impute import SimpleImputer\n",
        "from sklearn.feature_selection import SelectKBest, chi2, mutual_info_classif, VarianceThreshold\n",
        "from sklearn.base import BaseEstimator, TransformerMixin"
      ],
      "metadata": {
        "trusted": true,
        "id": "7ebTTPTH623I"
      },
      "execution_count": null,
      "outputs": []
    },
    {
      "cell_type": "markdown",
      "source": [
        "# IMAGE PREDICTIONS"
      ],
      "metadata": {
        "papermill": {
          "duration": 0.012065,
          "end_time": "2024-08-16T07:23:09.487673",
          "exception": false,
          "start_time": "2024-08-16T07:23:09.475608",
          "status": "completed"
        },
        "tags": [],
        "id": "EpM6hfwW623J"
      }
    },
    {
      "cell_type": "code",
      "source": [
        "#EFFNET V1B0\n",
        "!python /kaggle/input/isic-script-inference-effnetv1b0-f313ae/main.py /kaggle/input/isic-pytorch-training-baseline-image-only/AUROC0.5171_Loss0.3476_epoch35.bin\n",
        "!mv submission.csv submission_effnetv1b0.csv"
      ],
      "metadata": {
        "papermill": {
          "duration": 13.098024,
          "end_time": "2024-08-16T07:23:22.597759",
          "exception": false,
          "start_time": "2024-08-16T07:23:09.499735",
          "status": "completed"
        },
        "tags": [],
        "trusted": true,
        "id": "YpJp-Lb6623J"
      },
      "execution_count": null,
      "outputs": []
    },
    {
      "cell_type": "code",
      "source": [
        "#TARGET 3\n",
        "!python /kaggle/input/isic-2024-pl-submission-script-and-preds/pl_submission.py\n",
        "!mv submission.csv submission_image3.csv"
      ],
      "metadata": {
        "papermill": {
          "duration": 19.997614,
          "end_time": "2024-08-16T07:23:42.608204",
          "exception": false,
          "start_time": "2024-08-16T07:23:22.61059",
          "status": "completed"
        },
        "tags": [],
        "trusted": true,
        "id": "R_KohdGi623K"
      },
      "execution_count": null,
      "outputs": []
    },
    {
      "cell_type": "code",
      "source": [
        "#EVA02\n",
        "!python /kaggle/input/isic-script-inference-eva02/main.py /kaggle/input/isic-pytorch-training-baseline-eva02/AUROC0.5177_Loss0.2829_epoch7.bin\n",
        "!mv submission.csv submission_eva02.csv"
      ],
      "metadata": {
        "papermill": {
          "duration": 10.001464,
          "end_time": "2024-08-16T07:23:52.623069",
          "exception": false,
          "start_time": "2024-08-16T07:23:42.621605",
          "status": "completed"
        },
        "tags": [],
        "trusted": true,
        "id": "tbufJRqR623K"
      },
      "execution_count": null,
      "outputs": []
    },
    {
      "cell_type": "code",
      "source": [
        "#EDGENEXT\n",
        "!python /kaggle/input/isic-script-inference-edgenext/main.py /kaggle/input/isic-pytorch-training-edgenext/Final_model.bin\n",
        "!mv submission.csv submission_edgenext.csv"
      ],
      "metadata": {
        "papermill": {
          "duration": 10.036949,
          "end_time": "2024-08-16T07:24:02.673208",
          "exception": false,
          "start_time": "2024-08-16T07:23:52.636259",
          "status": "completed"
        },
        "tags": [],
        "trusted": true,
        "id": "UMPMk2O0623K"
      },
      "execution_count": null,
      "outputs": []
    },
    {
      "cell_type": "markdown",
      "source": [
        "# DATA PREPROCESS"
      ],
      "metadata": {
        "papermill": {
          "duration": 0.012867,
          "end_time": "2024-08-16T07:24:02.699572",
          "exception": false,
          "start_time": "2024-08-16T07:24:02.686705",
          "status": "completed"
        },
        "tags": [],
        "id": "p8tCu-0C623L"
      }
    },
    {
      "cell_type": "code",
      "source": [
        "root = Path('/kaggle/input/isic-2024-challenge')\n",
        "\n",
        "train_path = root / 'train-metadata.csv'\n",
        "test_path = root / 'test-metadata.csv'\n",
        "subm_path = root / 'sample_submission.csv'\n",
        "\n",
        "id_col = 'isic_id'\n",
        "target_col = 'target'\n",
        "group_col = 'patient_id'\n",
        "\n",
        "err = 1e-5\n",
        "sampling_ratio = 0.01\n",
        "seed = 42\n",
        "\n",
        "num_cols = [\n",
        "    'age_approx',                        # Approximate age of patient at time of imaging.\n",
        "    'clin_size_long_diam_mm',            # Maximum diameter of the lesion (mm).+\n",
        "    'tbp_lv_A',                          # A inside  lesion.+\n",
        "    'tbp_lv_Aext',                       # A outside lesion.+\n",
        "    'tbp_lv_B',                          # B inside  lesion.+\n",
        "    'tbp_lv_Bext',                       # B outside lesion.+\n",
        "    'tbp_lv_C',                          # Chroma inside  lesion.+\n",
        "    'tbp_lv_Cext',                       # Chroma outside lesion.+\n",
        "    'tbp_lv_H',                          # Hue inside the lesion; calculated as the angle of A* and B* in LAB* color space. Typical values range from 25 (red) to 75 (brown).+\n",
        "    'tbp_lv_Hext',                       # Hue outside lesion.+\n",
        "    'tbp_lv_L',                          # L inside lesion.+\n",
        "    'tbp_lv_Lext',                       # L outside lesion.+\n",
        "    'tbp_lv_areaMM2',                    # Area of lesion (mm^2).+\n",
        "    'tbp_lv_area_perim_ratio',           # Border jaggedness, the ratio between lesions perimeter and area. Circular lesions will have low values; irregular shaped lesions will have higher values. Values range 0-10.+\n",
        "    'tbp_lv_color_std_mean',             # Color irregularity, calculated as the variance of colors within the lesion's boundary.\n",
        "    'tbp_lv_deltaA',                     # Average A contrast (inside vs. outside lesion).+\n",
        "    'tbp_lv_deltaB',                     # Average B contrast (inside vs. outside lesion).+\n",
        "    'tbp_lv_deltaL',                     # Average L contrast (inside vs. outside lesion).+\n",
        "    'tbp_lv_deltaLB',                    #\n",
        "    'tbp_lv_deltaLBnorm',                # Contrast between the lesion and its immediate surrounding skin. Low contrast lesions tend to be faintly visible such as freckles; high contrast lesions tend to be those with darker pigment. Calculated as the average delta LB of the lesion relative to its immediate background in LAB* color space. Typical values range from 5.5 to 25.+\n",
        "    'tbp_lv_eccentricity',               # Eccentricity.+\n",
        "    'tbp_lv_minorAxisMM',                # Smallest lesion diameter (mm).+\n",
        "    'tbp_lv_nevi_confidence',            # Nevus confidence score (0-100 scale) is a convolutional neural network classifier estimated probability that the lesion is a nevus. The neural network was trained on approximately 57,000 lesions that were classified and labeled by a dermatologist.+,++\n",
        "    'tbp_lv_norm_border',                # Border irregularity (0-10 scale); the normalized average of border jaggedness and asymmetry.+\n",
        "    'tbp_lv_norm_color',                 # Color variation (0-10 scale); the normalized average of color asymmetry and color irregularity.+\n",
        "    'tbp_lv_perimeterMM',                # Perimeter of lesion (mm).+\n",
        "    'tbp_lv_radial_color_std_max',       # Color asymmetry, a measure of asymmetry of the spatial distribution of color within the lesion. This score is calculated by looking at the average standard deviation in LAB* color space within concentric rings originating from the lesion center. Values range 0-10.+\n",
        "    'tbp_lv_stdL',                       # Standard deviation of L inside  lesion.+\n",
        "    'tbp_lv_stdLExt',                    # Standard deviation of L outside lesion.+\n",
        "    'tbp_lv_symm_2axis',                 # Border asymmetry; a measure of asymmetry of the lesion's contour about an axis perpendicular to the lesion's most symmetric axis. Lesions with two axes of symmetry will therefore have low scores (more symmetric), while lesions with only one or zero axes of symmetry will have higher scores (less symmetric). This score is calculated by comparing opposite halves of the lesion contour over many degrees of rotation. The angle where the halves are most similar identifies the principal axis of symmetry, while the second axis of symmetry is perpendicular to the principal axis. Border asymmetry is reported as the asymmetry value about this second axis. Values range 0-10.+\n",
        "    'tbp_lv_symm_2axis_angle',           # Lesion border asymmetry angle.+\n",
        "    'tbp_lv_x',                          # X-coordinate of the lesion on 3D TBP.+\n",
        "    'tbp_lv_y',                          # Y-coordinate of the lesion on 3D TBP.+\n",
        "    'tbp_lv_z',                          # Z-coordinate of the lesion on 3D TBP.+\n",
        "]\n",
        "\n",
        "new_num_cols = [\n",
        "    'lesion_size_ratio',                 # tbp_lv_minorAxisMM      / clin_size_long_diam_mm\n",
        "    'lesion_shape_index',                # tbp_lv_areaMM2          / tbp_lv_perimeterMM **2\n",
        "    'hue_contrast',                      # tbp_lv_H                - tbp_lv_Hext              abs\n",
        "    'luminance_contrast',                # tbp_lv_L                - tbp_lv_Lext              abs\n",
        "    'lesion_color_difference',           # tbp_lv_deltaA **2       + tbp_lv_deltaB **2 + tbp_lv_deltaL **2  sqrt\n",
        "    'border_complexity',                 # tbp_lv_norm_border      + tbp_lv_symm_2axis\n",
        "    'color_uniformity',                  # tbp_lv_color_std_mean   / tbp_lv_radial_color_std_max\n",
        "\n",
        "    'position_distance_3d',              # tbp_lv_x **2 + tbp_lv_y **2 + tbp_lv_z **2  sqrt\n",
        "    'perimeter_to_area_ratio',           # tbp_lv_perimeterMM      / tbp_lv_areaMM2\n",
        "    'area_to_perimeter_ratio',           # tbp_lv_areaMM2          / tbp_lv_perimeterMM\n",
        "    'lesion_visibility_score',           # tbp_lv_deltaLBnorm      + tbp_lv_norm_color\n",
        "    'symmetry_border_consistency',       # tbp_lv_symm_2axis       * tbp_lv_norm_border\n",
        "    'consistency_symmetry_border',       # tbp_lv_symm_2axis       * tbp_lv_norm_border / (tbp_lv_symm_2axis + tbp_lv_norm_border)\n",
        "\n",
        "    'color_consistency',                 # tbp_lv_stdL             / tbp_lv_Lext\n",
        "    'consistency_color',                 # tbp_lv_stdL*tbp_lv_Lext / tbp_lv_stdL + tbp_lv_Lext\n",
        "    'size_age_interaction',              # clin_size_long_diam_mm  * age_approx\n",
        "    'hue_color_std_interaction',         # tbp_lv_H                * tbp_lv_color_std_mean\n",
        "    'lesion_severity_index',             # tbp_lv_norm_border      + tbp_lv_norm_color + tbp_lv_eccentricity / 3\n",
        "    'shape_complexity_index',            # border_complexity       + lesion_shape_index\n",
        "    'color_contrast_index',              # tbp_lv_deltaA + tbp_lv_deltaB + tbp_lv_deltaL + tbp_lv_deltaLBnorm\n",
        "\n",
        "    'log_lesion_area',                   # tbp_lv_areaMM2          + 1  np.log\n",
        "    'normalized_lesion_size',            # clin_size_long_diam_mm  / age_approx\n",
        "    'mean_hue_difference',               # tbp_lv_H                + tbp_lv_Hext    / 2\n",
        "    'std_dev_contrast',                  # tbp_lv_deltaA **2 + tbp_lv_deltaB **2 + tbp_lv_deltaL **2   / 3  np.sqrt\n",
        "    'color_shape_composite_index',       # tbp_lv_color_std_mean   + bp_lv_area_perim_ratio + tbp_lv_symm_2axis   / 3\n",
        "    'lesion_orientation_3d',             # tbp_lv_y                , tbp_lv_x  np.arctan2\n",
        "    'overall_color_difference',          # tbp_lv_deltaA           + tbp_lv_deltaB + tbp_lv_deltaL   / 3\n",
        "\n",
        "    'symmetry_perimeter_interaction',    # tbp_lv_symm_2axis       * tbp_lv_perimeterMM\n",
        "    'comprehensive_lesion_index',        # tbp_lv_area_perim_ratio + tbp_lv_eccentricity + bp_lv_norm_color + tbp_lv_symm_2axis   / 4\n",
        "    'color_variance_ratio',              # tbp_lv_color_std_mean   / tbp_lv_stdLExt\n",
        "    'border_color_interaction',          # tbp_lv_norm_border      * tbp_lv_norm_color\n",
        "    'border_color_interaction_2',\n",
        "    'size_color_contrast_ratio',         # clin_size_long_diam_mm  / tbp_lv_deltaLBnorm\n",
        "    'age_normalized_nevi_confidence',    # tbp_lv_nevi_confidence  / age_approx\n",
        "    'age_normalized_nevi_confidence_2',\n",
        "    'color_asymmetry_index',             # tbp_lv_symm_2axis       * tbp_lv_radial_color_std_max\n",
        "\n",
        "    'volume_approximation_3d',           # tbp_lv_areaMM2          * sqrt(tbp_lv_x**2 + tbp_lv_y**2 + tbp_lv_z**2)\n",
        "    'color_range',                       # abs(tbp_lv_L - tbp_lv_Lext) + abs(tbp_lv_A - tbp_lv_Aext) + abs(tbp_lv_B - tbp_lv_Bext)\n",
        "    'shape_color_consistency',           # tbp_lv_eccentricity     * tbp_lv_color_std_mean\n",
        "    'border_length_ratio',               # tbp_lv_perimeterMM      / pi * sqrt(tbp_lv_areaMM2 / pi)\n",
        "    'age_size_symmetry_index',           # age_approx              * clin_size_long_diam_mm * tbp_lv_symm_2axis\n",
        "    'index_age_size_symmetry',           # age_approx              * tbp_lv_areaMM2 * tbp_lv_symm_2axis\n",
        "]\n",
        "\n",
        "cat_cols = ['sex', 'anatom_site_general', 'tbp_tile_type', 'tbp_lv_location', 'tbp_lv_location_simple', 'attribution']\n",
        "norm_cols = [f'{col}_patient_norm' for col in num_cols + new_num_cols]\n",
        "special_cols = ['count_per_patient']\n",
        "image_cols = [\"target_3\",\"target_effnetv1b0\",\"target_eva02\",\"target_edgenext\"]\n",
        "# image_cols = [\"target_3\",\"target_effnetv1b0\"]\n",
        "\n",
        "#norm_cols += image_cols\n",
        "feature_cols = num_cols + new_num_cols + cat_cols + norm_cols + special_cols"
      ],
      "metadata": {
        "papermill": {
          "duration": 0.034084,
          "end_time": "2024-08-16T07:24:02.746912",
          "exception": false,
          "start_time": "2024-08-16T07:24:02.712828",
          "status": "completed"
        },
        "tags": [],
        "trusted": true,
        "id": "FarU-Rn6623L"
      },
      "execution_count": null,
      "outputs": []
    },
    {
      "cell_type": "code",
      "source": [
        "def read_data(path):\n",
        "    return (\n",
        "        pl.read_csv(path)\n",
        "        .with_columns(\n",
        "            pl.col('age_approx').cast(pl.Utf8).replace('NA', np.nan).cast(pl.Float64),\n",
        "        )\n",
        "        .with_columns(\n",
        "            pl.col(pl.Float64).fill_nan(pl.col(pl.Float64).median()), # You may want to impute test data with train\n",
        "        )\n",
        "        .with_columns(\n",
        "            lesion_size_ratio              = pl.col('tbp_lv_minorAxisMM') / pl.col('clin_size_long_diam_mm'),\n",
        "            lesion_shape_index             = pl.col('tbp_lv_areaMM2') / (pl.col('tbp_lv_perimeterMM') ** 2),\n",
        "            hue_contrast                   = (pl.col('tbp_lv_H') - pl.col('tbp_lv_Hext')).abs(),\n",
        "            luminance_contrast             = (pl.col('tbp_lv_L') - pl.col('tbp_lv_Lext')).abs(),\n",
        "            lesion_color_difference        = (pl.col('tbp_lv_deltaA') ** 2 + pl.col('tbp_lv_deltaB') ** 2 + pl.col('tbp_lv_deltaL') ** 2).sqrt(),\n",
        "            border_complexity              = pl.col('tbp_lv_norm_border') + pl.col('tbp_lv_symm_2axis'),\n",
        "            color_uniformity               = pl.col('tbp_lv_color_std_mean') / (pl.col('tbp_lv_radial_color_std_max') + err),\n",
        "        )\n",
        "        .with_columns(\n",
        "            position_distance_3d           = (pl.col('tbp_lv_x') ** 2 + pl.col('tbp_lv_y') ** 2 + pl.col('tbp_lv_z') ** 2).sqrt(),\n",
        "            perimeter_to_area_ratio        = pl.col('tbp_lv_perimeterMM') / pl.col('tbp_lv_areaMM2'),\n",
        "            area_to_perimeter_ratio        = pl.col('tbp_lv_areaMM2') / pl.col('tbp_lv_perimeterMM'),\n",
        "            lesion_visibility_score        = pl.col('tbp_lv_deltaLBnorm') + pl.col('tbp_lv_norm_color'),\n",
        "            combined_anatomical_site       = pl.col('anatom_site_general') + '_' + pl.col('tbp_lv_location'),\n",
        "            symmetry_border_consistency    = pl.col('tbp_lv_symm_2axis') * pl.col('tbp_lv_norm_border'),\n",
        "            consistency_symmetry_border    = pl.col('tbp_lv_symm_2axis') * pl.col('tbp_lv_norm_border') / (pl.col('tbp_lv_symm_2axis') + pl.col('tbp_lv_norm_border')),\n",
        "        )\n",
        "        .with_columns(\n",
        "            color_consistency              = pl.col('tbp_lv_stdL') / pl.col('tbp_lv_Lext'),\n",
        "            consistency_color              = pl.col('tbp_lv_stdL') * pl.col('tbp_lv_Lext') / (pl.col('tbp_lv_stdL') + pl.col('tbp_lv_Lext')),\n",
        "            size_age_interaction           = pl.col('clin_size_long_diam_mm') * pl.col('age_approx'),\n",
        "            hue_color_std_interaction      = pl.col('tbp_lv_H') * pl.col('tbp_lv_color_std_mean'),\n",
        "            lesion_severity_index          = (pl.col('tbp_lv_norm_border') + pl.col('tbp_lv_norm_color') + pl.col('tbp_lv_eccentricity')) / 3,\n",
        "            shape_complexity_index         = pl.col('border_complexity') + pl.col('lesion_shape_index'),\n",
        "            color_contrast_index           = pl.col('tbp_lv_deltaA') + pl.col('tbp_lv_deltaB') + pl.col('tbp_lv_deltaL') + pl.col('tbp_lv_deltaLBnorm'),\n",
        "        )\n",
        "        .with_columns(\n",
        "            log_lesion_area                = (pl.col('tbp_lv_areaMM2') + 1).log(),\n",
        "            normalized_lesion_size         = pl.col('clin_size_long_diam_mm') / pl.col('age_approx'),\n",
        "            mean_hue_difference            = (pl.col('tbp_lv_H') + pl.col('tbp_lv_Hext')) / 2,\n",
        "            std_dev_contrast               = ((pl.col('tbp_lv_deltaA') ** 2 + pl.col('tbp_lv_deltaB') ** 2 + pl.col('tbp_lv_deltaL') ** 2) / 3).sqrt(),\n",
        "            color_shape_composite_index    = (pl.col('tbp_lv_color_std_mean') + pl.col('tbp_lv_area_perim_ratio') + pl.col('tbp_lv_symm_2axis')) / 3,\n",
        "            lesion_orientation_3d          = pl.arctan2(pl.col('tbp_lv_y'), pl.col('tbp_lv_x')),\n",
        "            overall_color_difference       = (pl.col('tbp_lv_deltaA') + pl.col('tbp_lv_deltaB') + pl.col('tbp_lv_deltaL')) / 3,\n",
        "        )\n",
        "        .with_columns(\n",
        "            symmetry_perimeter_interaction = pl.col('tbp_lv_symm_2axis') * pl.col('tbp_lv_perimeterMM'),\n",
        "            comprehensive_lesion_index     = (pl.col('tbp_lv_area_perim_ratio') + pl.col('tbp_lv_eccentricity') + pl.col('tbp_lv_norm_color') + pl.col('tbp_lv_symm_2axis')) / 4,\n",
        "            color_variance_ratio           = pl.col('tbp_lv_color_std_mean') / pl.col('tbp_lv_stdLExt'),\n",
        "            border_color_interaction       = pl.col('tbp_lv_norm_border') * pl.col('tbp_lv_norm_color'),\n",
        "            border_color_interaction_2     = pl.col('tbp_lv_norm_border') * pl.col('tbp_lv_norm_color') / (pl.col('tbp_lv_norm_border') + pl.col('tbp_lv_norm_color')),\n",
        "            size_color_contrast_ratio      = pl.col('clin_size_long_diam_mm') / pl.col('tbp_lv_deltaLBnorm'),\n",
        "            age_normalized_nevi_confidence = pl.col('tbp_lv_nevi_confidence') / pl.col('age_approx'),\n",
        "            age_normalized_nevi_confidence_2 = (pl.col('clin_size_long_diam_mm')**2 + pl.col('age_approx')**2).sqrt(),\n",
        "            color_asymmetry_index          = pl.col('tbp_lv_radial_color_std_max') * pl.col('tbp_lv_symm_2axis'),\n",
        "        )\n",
        "        .with_columns(\n",
        "            volume_approximation_3d        = pl.col('tbp_lv_areaMM2') * (pl.col('tbp_lv_x')**2 + pl.col('tbp_lv_y')**2 + pl.col('tbp_lv_z')**2).sqrt(),\n",
        "            color_range                    = (pl.col('tbp_lv_L') - pl.col('tbp_lv_Lext')).abs() + (pl.col('tbp_lv_A') - pl.col('tbp_lv_Aext')).abs() + (pl.col('tbp_lv_B') - pl.col('tbp_lv_Bext')).abs(),\n",
        "            shape_color_consistency        = pl.col('tbp_lv_eccentricity') * pl.col('tbp_lv_color_std_mean'),\n",
        "            border_length_ratio            = pl.col('tbp_lv_perimeterMM') / (2 * np.pi * (pl.col('tbp_lv_areaMM2') / np.pi).sqrt()),\n",
        "            age_size_symmetry_index        = pl.col('age_approx') * pl.col('clin_size_long_diam_mm') * pl.col('tbp_lv_symm_2axis'),\n",
        "            index_age_size_symmetry        = pl.col('age_approx') * pl.col('tbp_lv_areaMM2') * pl.col('tbp_lv_symm_2axis'),\n",
        "        )\n",
        "        .with_columns(\n",
        "            ((pl.col(col) - pl.col(col).mean().over('patient_id')) / (pl.col(col).std().over('patient_id') + err)).alias(f'{col}_patient_norm') for col in (num_cols + new_num_cols)\n",
        "        )\n",
        "        .with_columns(\n",
        "            count_per_patient = pl.col('isic_id').count().over('patient_id'),\n",
        "        )\n",
        "        .with_columns(\n",
        "            pl.col(cat_cols).cast(pl.Categorical),\n",
        "        )\n",
        "        .to_pandas()\n",
        "        .set_index(id_col)\n",
        "    )"
      ],
      "metadata": {
        "papermill": {
          "duration": 0.043833,
          "end_time": "2024-08-16T07:24:02.80382",
          "exception": false,
          "start_time": "2024-08-16T07:24:02.759987",
          "status": "completed"
        },
        "tags": [],
        "trusted": true,
        "id": "hJoFXByg623M"
      },
      "execution_count": null,
      "outputs": []
    },
    {
      "cell_type": "code",
      "source": [
        "df_train = read_data(train_path)\n",
        "df_test = read_data(test_path)\n",
        "df_subm = pd.read_csv(subm_path, index_col=id_col)"
      ],
      "metadata": {
        "papermill": {
          "duration": 28.201569,
          "end_time": "2024-08-16T07:24:31.095029",
          "exception": false,
          "start_time": "2024-08-16T07:24:02.89346",
          "status": "completed"
        },
        "tags": [],
        "trusted": true,
        "id": "GrBiLj8y623M"
      },
      "execution_count": null,
      "outputs": []
    },
    {
      "cell_type": "code",
      "source": [
        "df_train.head()"
      ],
      "metadata": {
        "trusted": true,
        "id": "N1nJYzk2623M"
      },
      "execution_count": null,
      "outputs": []
    },
    {
      "cell_type": "code",
      "source": [
        "import h5py\n",
        "import tensorflow as tf\n",
        "\n",
        "model = tf.keras.Sequential([\n",
        "    tf.keras.layers.Conv2D(64, (3, 3), activation='relu', input_shape=(32, 32, 3)),\n",
        "    tf.keras.layers.MaxPooling2D((2, 2)),\n",
        "    tf.keras.layers.Conv2D(128, (3, 3), activation='relu'),\n",
        "    tf.keras.layers.GlobalAveragePooling2D()\n",
        "])\n",
        "\n",
        "\n",
        "def load_and_vectorize_images_gpu(hdf5_file_path):\n",
        "    with h5py.File(hdf5_file_path, 'r') as hdf5_file:\n",
        "        datasets = list(hdf5_file.keys())\n",
        "        total_datasets = len(datasets)\n",
        "        print(f\"Total number of datasets in the HDF5 file: {total_datasets}\")\n",
        "\n",
        "        image_vectors = []\n",
        "        ids = []\n",
        "        for dataset_name in datasets:\n",
        "            dataset = hdf5_file[dataset_name][()]\n",
        "            image_data = tf.image.decode_image(dataset, channels=3)\n",
        "            image_data = tf.image.resize(image_data, [32, 32])\n",
        "            image_data = image_data / 255.0\n",
        "\n",
        "            image_vector = model(tf.expand_dims(image_data, axis=0))\n",
        "            image_vector = tf.reshape(image_vector, [-1]).numpy()\n",
        "\n",
        "            image_vectors.append(image_vector)\n",
        "            ids.append(dataset_name)\n",
        "\n",
        "    df = pd.DataFrame(image_vectors, index=ids)\n",
        "    df.index.name = 'isic_id'\n",
        "\n",
        "    return df\n"
      ],
      "metadata": {
        "trusted": true,
        "id": "kAxreq2d623N"
      },
      "execution_count": null,
      "outputs": []
    },
    {
      "cell_type": "code",
      "source": [
        "train_file_path = root / 'train-image.hdf5'\n",
        "test_file_path = root / 'test-image.hdf5'\n",
        "\n",
        "df_train_image = load_and_vectorize_images_gpu(train_file_path)\n",
        "df_test_image = load_and_vectorize_images_gpu(test_file_path)\n",
        "\n",
        "print(df_train_image.head())\n",
        "print(df_test_image.head())"
      ],
      "metadata": {
        "trusted": true,
        "id": "3HF4RQFp623N"
      },
      "execution_count": null,
      "outputs": []
    },
    {
      "cell_type": "code",
      "source": [
        "df_train_image.columns = df_train_image.columns.astype(str)\n",
        "df_test_image.columns = df_test_image.columns.astype(str)"
      ],
      "metadata": {
        "trusted": true,
        "id": "dgBuAERJ623N"
      },
      "execution_count": null,
      "outputs": []
    },
    {
      "cell_type": "code",
      "source": [
        "df_train = pd.merge(df_train, df_train_image, on='isic_id', how='inner') # 두 df에서 isic_id가 일치하는 경우에만 저장\n",
        "df_test = pd.merge(df_test, df_test_image, on='isic_id', how='inner')"
      ],
      "metadata": {
        "trusted": true,
        "id": "0F-pj9EP623N"
      },
      "execution_count": null,
      "outputs": []
    },
    {
      "cell_type": "code",
      "source": [
        "# '_y'를 제거한 열 이름을 feature_cols에 추가\n",
        "cleaned_columns = [col.replace('_y', '') for col in df_train_image.columns.tolist()]\n",
        "feature_cols.extend(cleaned_columns)\n",
        "\n",
        "print(\"Updated feature_cols:\", feature_cols)"
      ],
      "metadata": {
        "trusted": true,
        "id": "EzkiOGKR623N"
      },
      "execution_count": null,
      "outputs": []
    },
    {
      "cell_type": "code",
      "source": [
        "def preprocess(df_train, df_test):\n",
        "    global cat_cols\n",
        "\n",
        "    encoder = OneHotEncoder(sparse_output=False, dtype=np.int32, handle_unknown='ignore')\n",
        "    encoder.fit(df_train[cat_cols])\n",
        "\n",
        "    new_cat_cols = [f'onehot_{i}' for i in range(len(encoder.get_feature_names_out()))]\n",
        "\n",
        "    df_train[new_cat_cols] = encoder.transform(df_train[cat_cols])\n",
        "    df_train[new_cat_cols] = df_train[new_cat_cols].astype('category')\n",
        "\n",
        "    df_test[new_cat_cols] = encoder.transform(df_test[cat_cols])\n",
        "    df_test[new_cat_cols] = df_test[new_cat_cols].astype('category')\n",
        "\n",
        "\n",
        "    # effnetv1b0\n",
        "    df_eff = pd.read_csv(\"/kaggle/input/isic-inference-effnetv1b0-for-training-data/train_effnetv1b0.csv\")\n",
        "\n",
        "    df_train = df_train.reset_index(drop=True)\n",
        "    df_eff = df_eff.reset_index(drop=True)\n",
        "\n",
        "    #upload effnetv1b0 train predictions values\n",
        "    df_train[\"target_effnetv1b0\"] = df_eff[\"target_effnetv1b0\"]\n",
        "    df_eff = pd.read_csv(\"submission_effnetv1b0.csv\")\n",
        "\n",
        "    df_test = df_test.reset_index(drop=True)\n",
        "    df_eff = df_eff.reset_index(drop=True)\n",
        "\n",
        "    #upload effnetv1b0 test predictions values\n",
        "    df_test[\"target_effnetv1b0\"] = df_eff[\"target\"]\n",
        "\n",
        "    # target 3\n",
        "    df_image_3 = pd.read_csv(\"/kaggle/input/isic-2024-pl-submission-script-and-preds/train_preds.csv\")\n",
        "\n",
        "    df_train = df_train.reset_index(drop=True)\n",
        "    df_image_3 = df_image_3.reset_index(drop=True)\n",
        "\n",
        "    df_train[\"target_3\"] = df_image_3[\"pred\"]\n",
        "\n",
        "    df_3 = pd.read_csv(\"submission_image3.csv\")\n",
        "\n",
        "    df_test = df_test.reset_index(drop=True)\n",
        "    df_image_3 = df_image_3.reset_index(drop=True)\n",
        "\n",
        "    df_test[\"target_3\"] = df_3[\"target\"]\n",
        "\n",
        "    #eva02\n",
        "    df_eva = pd.read_csv(\"/kaggle/input/isic-inference-eva02-for-training-data/train_eva02.csv\")\n",
        "\n",
        "    df_train = df_train.reset_index(drop=True)\n",
        "    df_eva = df_eva.reset_index(drop=True)\n",
        "\n",
        "    df_eva = df_eva[[\"target_eva02\"]]\n",
        "    df_train[\"target_eva02\"] = df_eva[\"target_eva02\"]\n",
        "\n",
        "    df_eva = pd.read_csv(\"submission_eva02.csv\")\n",
        "\n",
        "    df_test = df_test.reset_index(drop=True)\n",
        "    df_eva = df_eva.reset_index(drop=True)\n",
        "\n",
        "    df_test[\"target_eva02\"] = df_eva[\"target\"]\n",
        "\n",
        "    #edgenext\n",
        "    df_ednx = pd.read_csv(\"/kaggle/input/isic-inference-edgenext-for-training-data/train_edgenext.csv\")\n",
        "    df_train = df_train.reset_index(drop=True)\n",
        "    df_ednx = df_ednx.reset_index(drop=True)\n",
        "    df_ednx = df_ednx[['target_edgenext']]\n",
        "    df_train['target_edgenext'] = df_ednx['target_edgenext']\n",
        "    df_ednx = pd.read_csv(\"submission_edgenext.csv\")\n",
        "    df_test = df_test.reset_index(drop=True)\n",
        "    df_ednx = df_ednx.reset_index(drop=True)\n",
        "    df_test [\"target_edgenext\"] = df_ednx['target']\n",
        "\n",
        "\n",
        "    for col in cat_cols:\n",
        "        feature_cols.remove(col)\n",
        "\n",
        "    feature_cols.extend(new_cat_cols)\n",
        "    cat_cols = new_cat_cols\n",
        "\n",
        "    return df_train, df_test"
      ],
      "metadata": {
        "papermill": {
          "duration": 0.028974,
          "end_time": "2024-08-16T07:24:02.845758",
          "exception": false,
          "start_time": "2024-08-16T07:24:02.816784",
          "status": "completed"
        },
        "tags": [],
        "trusted": true,
        "id": "V9DTbqap623N"
      },
      "execution_count": null,
      "outputs": []
    },
    {
      "cell_type": "code",
      "source": [
        "df_train.head()"
      ],
      "metadata": {
        "trusted": true,
        "id": "0pU9Dmna623O"
      },
      "execution_count": null,
      "outputs": []
    },
    {
      "cell_type": "code",
      "source": [
        "df_train, df_test = preprocess(df_train, df_test)"
      ],
      "metadata": {
        "trusted": true,
        "id": "0bG_--WW623O"
      },
      "execution_count": null,
      "outputs": []
    },
    {
      "cell_type": "code",
      "source": [
        "df_train.head()"
      ],
      "metadata": {
        "trusted": true,
        "id": "L_SKfQTY623O"
      },
      "execution_count": null,
      "outputs": []
    },
    {
      "cell_type": "markdown",
      "source": [
        "***drop least important features with feature importance(code at the last of the notebook before test predictions)***"
      ],
      "metadata": {
        "papermill": {
          "duration": 0.013005,
          "end_time": "2024-08-16T07:24:31.1217",
          "exception": false,
          "start_time": "2024-08-16T07:24:31.108695",
          "status": "completed"
        },
        "tags": [],
        "id": "7GvxdEpC623O"
      }
    },
    {
      "cell_type": "code",
      "source": [
        "#they are detected at the first run\n",
        "least_important_features = ['onehot_32', 'onehot_6', 'onehot_33', 'onehot_30', 'onehot_26', 'onehot_22', 'onehot_36', 'onehot_4']\n",
        "#they are detected after the least_important_features are removed and it has increased cv score also so I add it\n",
        "#least_important_features_2 = ['onehot_17', 'onehot_42', 'onehot_29', 'onehot_13', 'onehot_25']\n",
        "#least_important_features += least_important_features_2\n",
        "df_train.drop(columns =least_important_features,inplace = True)\n",
        "for feature in least_important_features:\n",
        "    cat_cols.remove(feature)\n",
        "    feature_cols.remove(feature)"
      ],
      "metadata": {
        "papermill": {
          "duration": 0.228497,
          "end_time": "2024-08-16T07:24:31.363324",
          "exception": false,
          "start_time": "2024-08-16T07:24:31.134827",
          "status": "completed"
        },
        "tags": [],
        "trusted": true,
        "id": "uQhYeSwN623O"
      },
      "execution_count": null,
      "outputs": []
    },
    {
      "cell_type": "code",
      "source": [
        "def custom_metric(estimator, X, y_true):\n",
        "    y_hat = estimator.predict_proba(X)[:, 1]\n",
        "    min_tpr = 0.80\n",
        "    max_fpr = abs(1 - min_tpr)\n",
        "\n",
        "    v_gt = abs(y_true - 1)\n",
        "    v_pred = np.array([1.0 - x for x in y_hat])\n",
        "\n",
        "    partial_auc_scaled = roc_auc_score(v_gt, v_pred, max_fpr=max_fpr)\n",
        "    partial_auc = 0.5 * max_fpr**2 + (max_fpr - 0.5 * max_fpr**2) / (1.0 - 0.5) * (partial_auc_scaled - 0.5)\n",
        "\n",
        "    return partial_auc"
      ],
      "metadata": {
        "papermill": {
          "duration": 0.021401,
          "end_time": "2024-08-16T07:24:02.880468",
          "exception": false,
          "start_time": "2024-08-16T07:24:02.859067",
          "status": "completed"
        },
        "tags": [],
        "trusted": true,
        "id": "mjYYlRFI623O"
      },
      "execution_count": null,
      "outputs": []
    },
    {
      "cell_type": "markdown",
      "source": [
        "# MODEL INITIALIZATION"
      ],
      "metadata": {
        "papermill": {
          "duration": 0.013243,
          "end_time": "2024-08-16T07:24:31.390782",
          "exception": false,
          "start_time": "2024-08-16T07:24:31.377539",
          "status": "completed"
        },
        "tags": [],
        "id": "8cxgbEfD623O"
      }
    },
    {
      "cell_type": "code",
      "source": [
        "from sklearn.base import BaseEstimator, TransformerMixin\n",
        "import copy\n",
        "\n",
        "feature_cols_without_image_cols = copy.copy(feature_cols)\n",
        "feature_cols += image_cols\n",
        "\n",
        "class SelectColumns(BaseEstimator, TransformerMixin):\n",
        "    def __init__(self, columns):\n",
        "        self.columns = columns\n",
        "    def fit(self, X, y=None):\n",
        "        return self\n",
        "    def transform(self, X):\n",
        "        return X[self.columns]"
      ],
      "metadata": {
        "papermill": {
          "duration": 0.021771,
          "end_time": "2024-08-16T07:24:31.42559",
          "exception": false,
          "start_time": "2024-08-16T07:24:31.403819",
          "status": "completed"
        },
        "tags": [],
        "trusted": true,
        "id": "uKtbmdut623O"
      },
      "execution_count": null,
      "outputs": []
    },
    {
      "cell_type": "code",
      "source": [
        "lgb_params = {\n",
        "    'objective':        'binary',\n",
        "    'verbosity':        -1,\n",
        "    'n_iter':           200,\n",
        "    'boosting_type':    'gbdt',\n",
        "    'random_state':     seed,\n",
        "    'lambda_l1':        0.08758718919397321,\n",
        "    'lambda_l2':        0.0039689175176025465,\n",
        "    'learning_rate':    0.03231007103195577,\n",
        "    'max_depth':        4,\n",
        "    'num_leaves':       103,\n",
        "    'colsample_bytree': 0.8329551585827726,\n",
        "    'colsample_bynode': 0.4025961355653304,\n",
        "    'bagging_fraction': 0.7738954452473223,\n",
        "    'bagging_freq':     4,\n",
        "    'min_data_in_leaf': 85,\n",
        "    'scale_pos_weight': 2.7984184778875543,\n",
        "}\n",
        "\n",
        "\n",
        "sampling_ratio = 0.01\n",
        "seed =42\n",
        "\n",
        "lgb_model = Pipeline([\n",
        "    ('sampler_1', RandomOverSampler(sampling_strategy= 0.003 , random_state=seed)),\n",
        "    ('sampler_2', RandomUnderSampler(sampling_strategy=sampling_ratio, random_state=seed)),\n",
        "    ('filter', SelectColumns(feature_cols_without_image_cols)),\n",
        "    ('classifier', lgb.LGBMClassifier(**lgb_params)),\n",
        "])"
      ],
      "metadata": {
        "papermill": {
          "duration": 0.023367,
          "end_time": "2024-08-16T07:24:31.462111",
          "exception": false,
          "start_time": "2024-08-16T07:24:31.438744",
          "status": "completed"
        },
        "tags": [],
        "trusted": true,
        "id": "JUGegh8D623P"
      },
      "execution_count": null,
      "outputs": []
    },
    {
      "cell_type": "code",
      "source": [
        "cb_params = {\n",
        "    'loss_function':     'Logloss',\n",
        "    'iterations':        250,\n",
        "    'verbose':           False,\n",
        "    'random_state':      seed,\n",
        "    'max_depth':         7,\n",
        "    'learning_rate':     0.06936242010150652,\n",
        "    'scale_pos_weight':  2.6149345838209532,\n",
        "    'l2_leaf_reg':       6.216113851699493,\n",
        "    'subsample':         0.6249261779711819,\n",
        "    'min_data_in_leaf':  24,\n",
        "    'cat_features':      cat_cols,\n",
        "}\n",
        "cb_model = Pipeline([\n",
        "    ('sampler_1', RandomOverSampler(sampling_strategy= 0.003 , random_state=seed)),\n",
        "    ('sampler_2', RandomUnderSampler(sampling_strategy=sampling_ratio, random_state=seed)),\n",
        "    ('classifier', cb.CatBoostClassifier(**cb_params)),\n",
        "])"
      ],
      "metadata": {
        "papermill": {
          "duration": 0.023853,
          "end_time": "2024-08-16T07:24:31.499001",
          "exception": false,
          "start_time": "2024-08-16T07:24:31.475148",
          "status": "completed"
        },
        "tags": [],
        "trusted": true,
        "id": "SB4CjXCZ623P"
      },
      "execution_count": null,
      "outputs": []
    },
    {
      "cell_type": "code",
      "source": [
        "xgb_params = {\n",
        "    'enable_categorical': True,\n",
        "    'tree_method':        'hist',\n",
        "    'random_state':       seed,\n",
        "    'learning_rate':      0.08501257473292347,\n",
        "    'lambda':             8.879624125465703,\n",
        "    'alpha':              0.6779926606782505,\n",
        "    'max_depth':          6,\n",
        "    'subsample':          0.6012681388711075,\n",
        "    'colsample_bytree':   0.8437772277074493,\n",
        "    'colsample_bylevel':  0.5476090898823716,\n",
        "    'colsample_bynode':   0.9928601203635129,\n",
        "    'scale_pos_weight':   3.29440313334688,\n",
        "}\n",
        "\n",
        "xgb_model = Pipeline([\n",
        "    ('sampler_1', RandomOverSampler(sampling_strategy= 0.003 , random_state=seed)),\n",
        "    ('sampler_2', RandomUnderSampler(sampling_strategy=sampling_ratio, random_state=seed)),\n",
        "    ('classifier', xgb.XGBClassifier(**xgb_params)),\n",
        "])"
      ],
      "metadata": {
        "papermill": {
          "duration": 0.021705,
          "end_time": "2024-08-16T07:24:31.533886",
          "exception": false,
          "start_time": "2024-08-16T07:24:31.512181",
          "status": "completed"
        },
        "tags": [],
        "trusted": true,
        "id": "YuNX3jzi623P"
      },
      "execution_count": null,
      "outputs": []
    },
    {
      "cell_type": "code",
      "source": [
        "estimator = VotingClassifier([\n",
        "    ('lgb', lgb_model), ('cb', cb_model), ('xgb', xgb_model),\n",
        "], voting='soft',weights=[0.30,0.47,0.28])"
      ],
      "metadata": {
        "papermill": {
          "duration": 0.062523,
          "end_time": "2024-08-16T07:24:31.609473",
          "exception": false,
          "start_time": "2024-08-16T07:24:31.54695",
          "status": "completed"
        },
        "tags": [],
        "trusted": true,
        "id": "-lsYp1T2623P"
      },
      "execution_count": null,
      "outputs": []
    },
    {
      "cell_type": "markdown",
      "source": [
        "# CROSS VALIDATION"
      ],
      "metadata": {
        "papermill": {
          "duration": 0.012817,
          "end_time": "2024-08-16T07:24:31.635376",
          "exception": false,
          "start_time": "2024-08-16T07:24:31.622559",
          "status": "completed"
        },
        "tags": [],
        "id": "tmCdYkYR623P"
      }
    },
    {
      "cell_type": "code",
      "source": [
        "X = df_train[feature_cols]\n",
        "y = df_train[target_col]\n",
        "groups = df_train[group_col]\n",
        "cv = StratifiedGroupKFold(5, shuffle=True, random_state=seed)\n",
        "\n",
        "val_score = cross_val_score(\n",
        "    estimator=estimator,\n",
        "    X=X, y=y,\n",
        "    cv=cv,\n",
        "    groups=groups,\n",
        "    scoring=custom_metric,\n",
        ")\n",
        "\n",
        "np.mean(val_score), val_score\n",
        "\n",
        "\n",
        "# -------------------CV SCORES------------------------\n",
        "# RUS ==RandomUnderSampler(0.001) , ROS ==RandomOverSampler(0.003)\n",
        "# DROP NOTHING ----------------------> (0.18775) (RUS + image features(effnet+ target3))\n",
        "# DROP least_important_features -----> (0.18747) (RUS + image features(effnet+target3))\n",
        "# DROP NOTHING ----------------------> (0.17000) (ROS+RUS + no image features)\n",
        "# DROP least_important_features -----> (0.17124) (ROS+RUS + no image features)\n",
        "# DROP least_important_features+2 ---> (0.17160) (ROS+RUS + no image features)\n",
        "\n",
        "# edgenext (0.19038159621700457, array([0.19015561, 0.18941902, 0.19590514, 0.18606745, 0.19036077]))"
      ],
      "metadata": {
        "papermill": {
          "duration": 215.447971,
          "end_time": "2024-08-16T07:28:07.096341",
          "exception": false,
          "start_time": "2024-08-16T07:24:31.64837",
          "status": "completed"
        },
        "tags": [],
        "trusted": true,
        "id": "XEBfXXk5623P"
      },
      "execution_count": null,
      "outputs": []
    },
    {
      "cell_type": "code",
      "source": [
        "X, y = df_train[feature_cols], df_train[target_col]\n",
        "\n",
        "estimator.fit(X, y)"
      ],
      "metadata": {
        "trusted": true,
        "id": "6KOc8eNh623P"
      },
      "execution_count": null,
      "outputs": []
    },
    {
      "cell_type": "code",
      "source": [
        "df_subm['target'] = estimator.predict_proba(df_test[feature_cols])[:, 1]\n",
        "\n",
        "df_subm.to_csv('submission.csv')\n",
        "df_subm.head()"
      ],
      "metadata": {
        "trusted": true,
        "id": "O0hTvSYh623Q"
      },
      "execution_count": null,
      "outputs": []
    },
    {
      "cell_type": "markdown",
      "source": [
        "---"
      ],
      "metadata": {
        "id": "JFF69w2K623Q"
      }
    },
    {
      "cell_type": "markdown",
      "source": [
        "# HYPERPARAMETER TUNING"
      ],
      "metadata": {
        "papermill": {
          "duration": 0.013596,
          "end_time": "2024-08-16T07:28:07.12358",
          "exception": false,
          "start_time": "2024-08-16T07:28:07.109984",
          "status": "completed"
        },
        "tags": [],
        "id": "9UrtdbNI623Q"
      }
    },
    {
      "cell_type": "code",
      "source": [
        "DO_TUNING = False"
      ],
      "metadata": {
        "papermill": {
          "duration": 0.020591,
          "end_time": "2024-08-16T07:28:07.158022",
          "exception": false,
          "start_time": "2024-08-16T07:28:07.137431",
          "status": "completed"
        },
        "tags": [],
        "trusted": true,
        "id": "Le6bOKlv623Q"
      },
      "execution_count": null,
      "outputs": []
    },
    {
      "cell_type": "code",
      "source": [
        "def lgb_objective(trial):\n",
        "    params = {\n",
        "        'objective':         'binary',\n",
        "        'verbosity':         -1,\n",
        "        'n_iter': 200,\n",
        "        'boosting_type':  'gbdt',\n",
        "        'lambda_l1':         trial.suggest_float('lambda_l1', 1e-3, 10.0, log=True),\n",
        "        'lambda_l2':         trial.suggest_float('lambda_l2', 1e-3, 10.0, log=True),\n",
        "        'learning_rate':     trial.suggest_float('learning_rate', 1e-2, 1e-1, log=True),\n",
        "        'max_depth':         trial.suggest_int('max_depth', 4, 8),\n",
        "        'num_leaves':        trial.suggest_int('num_leaves', 16, 256),\n",
        "        'colsample_bytree':  trial.suggest_float('colsample_bytree', 0.4, 1.0),\n",
        "        'colsample_bynode':  trial.suggest_float('colsample_bynode', 0.4, 1.0),\n",
        "        'bagging_fraction':  trial.suggest_float('bagging_fraction', 0.4, 1.0),\n",
        "        'bagging_freq':      trial.suggest_int('bagging_freq', 1, 7),\n",
        "        'min_data_in_leaf':  trial.suggest_int('min_data_in_leaf', 5, 100),\n",
        "        'scale_pos_weight' : trial.suggest_float('scale_pos_weight', 0.8, 4.0),\n",
        "    }\n",
        "\n",
        "    estimator = Pipeline([\n",
        "        ('sampler', RandomUnderSampler(sampling_strategy=sampling_ratio)),\n",
        "        ('classifier', lgb.LGBMClassifier(**params)),\n",
        "    ])\n",
        "\n",
        "    X = df_train[feature_cols]\n",
        "    y = df_train[target_col]\n",
        "    groups = df_train[group_col]\n",
        "    cv = StratifiedGroupKFold(5, shuffle=True)\n",
        "\n",
        "    val_score = cross_val_score(\n",
        "        estimator=estimator,\n",
        "        X=X, y=y,\n",
        "        cv=cv,\n",
        "        groups=groups,\n",
        "        scoring=custom_metric,\n",
        "    )\n",
        "\n",
        "    return np.mean(val_score)"
      ],
      "metadata": {
        "papermill": {
          "duration": 0.026106,
          "end_time": "2024-08-16T07:28:07.197738",
          "exception": false,
          "start_time": "2024-08-16T07:28:07.171632",
          "status": "completed"
        },
        "tags": [],
        "trusted": true,
        "id": "Pt7rjfu3623W"
      },
      "execution_count": null,
      "outputs": []
    },
    {
      "cell_type": "code",
      "source": [
        "def cb_objective(trial):\n",
        "    params = {\n",
        "        'loss_function':     'Logloss',\n",
        "        'iterations':        200,\n",
        "        'verbose':           False,\n",
        "        'random_state':      seed,\n",
        "        'learning_rate':     trial.suggest_float('learning_rate', 1e-2, 1e-1, log=True),\n",
        "        'max_depth':         trial.suggest_int('max_depth', 4, 8),\n",
        "        'l2_leaf_reg':       trial.suggest_float('l2_leaf_reg', 1e-3, 10.0, log=True),\n",
        "        'subsample':         trial.suggest_float('subsample', 0.4, 1.0),\n",
        "        'colsample_bylevel': trial.suggest_float('colsample_bylevel', 0.4, 1.0),\n",
        "        'min_data_in_leaf':  trial.suggest_int('min_data_in_leaf', 5, 100),\n",
        "        'scale_pos_weight':  trial.suggest_float('scale_pos_weight', 0.8, 4.0),\n",
        "        'bootstrap_type':    'Bayesian',  # Optional: depending on your use case, you may want to tune this as well\n",
        "    }\n",
        "\n",
        "    estimator = Pipeline([\n",
        "        ('sampler', RandomUnderSampler(sampling_strategy=sampling_ratio)),\n",
        "        ('classifier', cb.CatBoostClassifier(**params)),\n",
        "    ])\n",
        "\n",
        "    X = df_train[feature_cols]\n",
        "    y = df_train[target_col]\n",
        "    groups = df_train[group_col]\n",
        "    cv = StratifiedGroupKFold(5, shuffle=True)\n",
        "\n",
        "    val_score = cross_val_score(\n",
        "        estimator=estimator,\n",
        "        X=X, y=y,\n",
        "        cv=cv,\n",
        "        groups=groups,\n",
        "        scoring=custom_metric,\n",
        "    )\n",
        "\n",
        "    return np.mean(val_score)"
      ],
      "metadata": {
        "papermill": {
          "duration": 0.024417,
          "end_time": "2024-08-16T07:28:07.23602",
          "exception": false,
          "start_time": "2024-08-16T07:28:07.211603",
          "status": "completed"
        },
        "tags": [],
        "trusted": true,
        "id": "ks6BXiKg623W"
      },
      "execution_count": null,
      "outputs": []
    },
    {
      "cell_type": "code",
      "source": [
        "def xgb_objective(trial):\n",
        "    params = {\n",
        "        'objective':          'binary:logistic',\n",
        "        'n_estimators':       200,\n",
        "        'tree_method':        'hist',\n",
        "        'random_state':       seed,\n",
        "        'learning_rate':      trial.suggest_float('learning_rate', 1e-2, 1e-1, log=True),\n",
        "        'max_depth':          trial.suggest_int('max_depth', 4, 8),\n",
        "        'lambda':             trial.suggest_float('lambda', 1e-3, 10.0, log=True),\n",
        "        'alpha':              trial.suggest_float('alpha', 1e-3, 10.0, log=True),\n",
        "        'subsample':          trial.suggest_float('subsample', 0.4, 1.0),\n",
        "        'colsample_bytree':   trial.suggest_float('colsample_bytree', 0.4, 1.0),\n",
        "        'colsample_bynode':   trial.suggest_float('colsample_bynode', 0.4, 1.0),\n",
        "        'scale_pos_weight':   trial.suggest_float('scale_pos_weight', 0.8, 4.0),\n",
        "    }\n",
        "\n",
        "    estimator = Pipeline([\n",
        "        ('sampler', RandomUnderSampler(sampling_strategy=sampling_ratio)),\n",
        "        ('classifier', xgb.XGBClassifier(**params)),\n",
        "    ])\n",
        "\n",
        "    X = df_train[feature_cols]\n",
        "    y = df_train[target_col]\n",
        "    groups = df_train[group_col]\n",
        "    cv = StratifiedGroupKFold(5, shuffle=True)\n",
        "\n",
        "    val_score = cross_val_score(\n",
        "        estimator=estimator,\n",
        "        X=X, y=y,\n",
        "        cv=cv,\n",
        "        groups=groups,\n",
        "        scoring=custom_metric,\n",
        "    )\n",
        "\n",
        "    return np.mean(val_score)"
      ],
      "metadata": {
        "papermill": {
          "duration": 0.024593,
          "end_time": "2024-08-16T07:28:07.274323",
          "exception": false,
          "start_time": "2024-08-16T07:28:07.24973",
          "status": "completed"
        },
        "tags": [],
        "trusted": true,
        "id": "bD83Twj0623W"
      },
      "execution_count": null,
      "outputs": []
    },
    {
      "cell_type": "code",
      "source": [
        "if DO_TUNING:\n",
        "    # LightGBM\n",
        "    start_time = time.time()\n",
        "    study_lgb = optuna.create_study(direction='maximize', sampler=TPESampler(seed=seed))\n",
        "    study_lgb.optimize(lgb_objective, n_trials=100)\n",
        "    end_time = time.time()\n",
        "    elapsed_time_lgb = end_time - start_time\n",
        "    print(f\"LightGBM tuning took {elapsed_time_lgb:.2f} seconds.\")\n"
      ],
      "metadata": {
        "papermill": {
          "duration": 0.02125,
          "end_time": "2024-08-16T07:28:07.309305",
          "exception": false,
          "start_time": "2024-08-16T07:28:07.288055",
          "status": "completed"
        },
        "tags": [],
        "trusted": true,
        "id": "TO6iFvP4623W"
      },
      "execution_count": null,
      "outputs": []
    },
    {
      "cell_type": "code",
      "source": [
        "if DO_TUNING:\n",
        "    # CatBoost\n",
        "    start_time = time.time()\n",
        "    study_cb = optuna.create_study(direction='maximize', sampler=TPESampler(seed=seed))\n",
        "    study_cb.optimize(cb_objective, n_trials=100)\n",
        "    end_time = time.time()\n",
        "    elapsed_time_cb = end_time - start_time\n",
        "    print(f\"CatBoost tuning took {elapsed_time_cb:.2f} seconds.\")"
      ],
      "metadata": {
        "papermill": {
          "duration": 0.021126,
          "end_time": "2024-08-16T07:28:07.344036",
          "exception": false,
          "start_time": "2024-08-16T07:28:07.32291",
          "status": "completed"
        },
        "tags": [],
        "trusted": true,
        "id": "-o6nXoUT623X"
      },
      "execution_count": null,
      "outputs": []
    },
    {
      "cell_type": "code",
      "source": [
        "if DO_TUNING:\n",
        "    # XGBoost\n",
        "    start_time = time.time()\n",
        "    study_xgb = optuna.create_study(direction='maximize', sampler=TPESampler(seed=seed))\n",
        "    study_xgb.optimize(xgb_objective, n_trials=100)\n",
        "    end_time = time.time()\n",
        "    elapsed_time_xgb = end_time - start_time\n",
        "    print(f\"XGBoost tuning took {elapsed_time_xgb:.2f} seconds.\")"
      ],
      "metadata": {
        "papermill": {
          "duration": 0.020772,
          "end_time": "2024-08-16T07:28:07.378483",
          "exception": false,
          "start_time": "2024-08-16T07:28:07.357711",
          "status": "completed"
        },
        "tags": [],
        "trusted": true,
        "id": "3O4MPDxp623X"
      },
      "execution_count": null,
      "outputs": []
    },
    {
      "cell_type": "code",
      "source": [
        "if DO_TUNING:\n",
        "    # Print best parameters for each study\n",
        "    print(\"Best LGBM trial:\", study_lgb.best_trial)\n",
        "    print(\"Best CatBoost trial:\", study_cb.best_trial)\n",
        "    print(\"Best XGBoost trial:\", study_xgb.best_trial)"
      ],
      "metadata": {
        "papermill": {
          "duration": 0.020339,
          "end_time": "2024-08-16T07:28:07.412436",
          "exception": false,
          "start_time": "2024-08-16T07:28:07.392097",
          "status": "completed"
        },
        "tags": [],
        "trusted": true,
        "id": "YW6MjvF6623X"
      },
      "execution_count": null,
      "outputs": []
    },
    {
      "cell_type": "markdown",
      "source": [
        "# TRAINING"
      ],
      "metadata": {
        "papermill": {
          "duration": 0.01343,
          "end_time": "2024-08-16T07:28:07.439452",
          "exception": false,
          "start_time": "2024-08-16T07:28:07.426022",
          "status": "completed"
        },
        "tags": [],
        "id": "YRuYwqHN623X"
      }
    },
    {
      "cell_type": "code",
      "source": [
        "# X, y = df_train[feature_cols], df_train[target_col]\n",
        "\n",
        "# estimator.fit(X, y)"
      ],
      "metadata": {
        "papermill": {
          "duration": 48.796521,
          "end_time": "2024-08-16T07:28:56.24972",
          "exception": false,
          "start_time": "2024-08-16T07:28:07.453199",
          "status": "completed"
        },
        "tags": [],
        "trusted": true,
        "id": "IhGPKrM5623X"
      },
      "execution_count": null,
      "outputs": []
    },
    {
      "cell_type": "markdown",
      "source": [
        "# LOOKING FOR FEATURE IMPORTANCE(lgb + xgb)"
      ],
      "metadata": {
        "papermill": {
          "duration": 0.01413,
          "end_time": "2024-08-16T07:28:56.278194",
          "exception": false,
          "start_time": "2024-08-16T07:28:56.264064",
          "status": "completed"
        },
        "tags": [],
        "id": "bF78EA7T623X"
      }
    },
    {
      "cell_type": "code",
      "source": [
        "DO_FEATURE_IMPORTANCE_MODELS = False"
      ],
      "metadata": {
        "papermill": {
          "duration": 0.02113,
          "end_time": "2024-08-16T07:28:56.313451",
          "exception": false,
          "start_time": "2024-08-16T07:28:56.292321",
          "status": "completed"
        },
        "tags": [],
        "trusted": true,
        "id": "TqSOpVDs623X"
      },
      "execution_count": null,
      "outputs": []
    },
    {
      "cell_type": "code",
      "source": [
        "if DO_FEATURE_IMPORTANCE_MODELS:\n",
        "    lgb_model = estimator.named_estimators_['lgb'].named_steps['classifier']\n",
        "    lgb_feature_importance = lgb_model.booster_.feature_importance(importance_type='gain')\n",
        "    lgb_feature_importance_df = pd.DataFrame({\n",
        "        'feature': X.columns,\n",
        "        'importance': lgb_feature_importance\n",
        "    }).sort_values(by='importance', ascending=False)\n",
        "\n",
        "\n",
        "    xgb_model = estimator.named_estimators_['xgb'].named_steps['classifier']\n",
        "    xgb_feature_importance = xgb_model.get_booster().get_score(importance_type='weight')\n",
        "    xgb_feature_importance_df = pd.DataFrame({\n",
        "        'feature': xgb_feature_importance.keys(),\n",
        "        'importance': xgb_feature_importance.values()\n",
        "    }).sort_values(by='importance', ascending=False)\n"
      ],
      "metadata": {
        "papermill": {
          "duration": 0.022817,
          "end_time": "2024-08-16T07:28:56.350442",
          "exception": false,
          "start_time": "2024-08-16T07:28:56.327625",
          "status": "completed"
        },
        "tags": [],
        "trusted": true,
        "id": "E-gKig0P623X"
      },
      "execution_count": null,
      "outputs": []
    },
    {
      "cell_type": "code",
      "source": [
        "if DO_FEATURE_IMPORTANCE_MODELS:\n",
        "\n",
        "    print(lgb_feature_importance_df)\n",
        "    print(xgb_feature_importance_df)"
      ],
      "metadata": {
        "papermill": {
          "duration": 0.020573,
          "end_time": "2024-08-16T07:28:56.385147",
          "exception": false,
          "start_time": "2024-08-16T07:28:56.364574",
          "status": "completed"
        },
        "tags": [],
        "trusted": true,
        "id": "V3KeyunK623Y"
      },
      "execution_count": null,
      "outputs": []
    },
    {
      "cell_type": "markdown",
      "source": [
        "# LEAST IMPORTANT FEATURES"
      ],
      "metadata": {
        "papermill": {
          "duration": 0.013909,
          "end_time": "2024-08-16T07:28:56.413196",
          "exception": false,
          "start_time": "2024-08-16T07:28:56.399287",
          "status": "completed"
        },
        "tags": [],
        "id": "BF1D18qk623Y"
      }
    },
    {
      "cell_type": "code",
      "source": [
        "if DO_FEATURE_IMPORTANCE_MODELS:\n",
        "\n",
        "    # Assuming lgb_feature_importance_df is already created and contains the feature importances\n",
        "    least_important_lgb = lgb_feature_importance_df.sort_values(by='importance').head(24)\n",
        "\n",
        "    print(\"Least Important Features in LightGBM:\")\n",
        "    print(least_important_lgb)\n",
        "\n",
        "    # Convert the xgb_feature_importance to a DataFrame for easier manipulation\n",
        "    least_important_xgb = xgb_feature_importance_df.sort_values(by = \"importance\").head(6)\n",
        "\n",
        "\n",
        "    print(\"\\nLeast Important Features in XGBoost:\")\n",
        "    print(least_important_xgb)"
      ],
      "metadata": {
        "papermill": {
          "duration": 0.021611,
          "end_time": "2024-08-16T07:28:56.449047",
          "exception": false,
          "start_time": "2024-08-16T07:28:56.427436",
          "status": "completed"
        },
        "tags": [],
        "trusted": true,
        "id": "EuHn02YK623Y"
      },
      "execution_count": null,
      "outputs": []
    },
    {
      "cell_type": "code",
      "source": [
        "if DO_FEATURE_IMPORTANCE_MODELS:\n",
        "\n",
        "    # Extract the least important feature names from both LightGBM and XGBoost\n",
        "    least_important_lgb_features = least_important_lgb['feature'].tolist()\n",
        "    least_important_xgb_features = least_important_xgb['feature'].tolist()\n",
        "\n",
        "    # Find the intersection of the two lists\n",
        "    common_least_important_features = list(set(least_important_lgb_features) & set(least_important_xgb_features))\n",
        "\n",
        "    print(\"Common Least Important Features in Both LightGBM and XGBoost:\")\n",
        "    print(common_least_important_features)\n"
      ],
      "metadata": {
        "papermill": {
          "duration": 0.021335,
          "end_time": "2024-08-16T07:28:56.484435",
          "exception": false,
          "start_time": "2024-08-16T07:28:56.4631",
          "status": "completed"
        },
        "tags": [],
        "trusted": true,
        "id": "YMd6hhV_623Y"
      },
      "execution_count": null,
      "outputs": []
    },
    {
      "cell_type": "markdown",
      "source": [
        "# LOOKING FOR FEATURE IMPORTANCE(Tests)"
      ],
      "metadata": {
        "papermill": {
          "duration": 0.013812,
          "end_time": "2024-08-16T07:28:56.512331",
          "exception": false,
          "start_time": "2024-08-16T07:28:56.498519",
          "status": "completed"
        },
        "tags": [],
        "id": "-xFH9mJJ623Y"
      }
    },
    {
      "cell_type": "code",
      "source": [
        "DO_FEATURE_IMPORTANCE_TEST = False"
      ],
      "metadata": {
        "papermill": {
          "duration": 0.020049,
          "end_time": "2024-08-16T07:28:56.546465",
          "exception": false,
          "start_time": "2024-08-16T07:28:56.526416",
          "status": "completed"
        },
        "tags": [],
        "trusted": true,
        "id": "jULqIY6c623Y"
      },
      "execution_count": null,
      "outputs": []
    },
    {
      "cell_type": "code",
      "source": [
        "if DO_FEATURE_IMPORTANCE_TEST:\n",
        "    X = df_train[feature_cols]\n",
        "    y = df_train[target_col]\n",
        "\n",
        "    # Separate continuous and categorical features\n",
        "    continuous_features = num_cols + norm_cols + new_num_cols\n",
        "    # Fill null values of continuous features with their median values\n",
        "    X[continuous_features] = X[continuous_features].apply(lambda x: x.fillna(x.median()))\n",
        "\n",
        "\n",
        "    # Correlation Matrix for continuous features\n",
        "    corr_matrix = df_train[continuous_features + ['target']].corr()\n",
        "    threshold = 0.01\n",
        "    relevant_features_corr = corr_matrix[abs(corr_matrix['target']) > threshold].index\n",
        "    selected_features_corr = relevant_features_corr.drop('target')\n",
        "    print(\"Selected continuous features based on correlation threshold:\")\n",
        "    print(selected_features_corr)\n",
        "    print(len(selected_features_corr))\n",
        "\n",
        "    # Chi-Square Test for categorical features\n",
        "    chi2_selector = SelectKBest(chi2, k=15)\n",
        "    chi2_selector.fit_transform(X[cat_cols], y)\n",
        "    selected_features_chi2 = X[cat_cols].columns[chi2_selector.get_support()]\n",
        "    print(\"Selected categorical features based on Chi-Square Test:\")\n",
        "    print(selected_features_chi2)\n",
        "\n",
        "    # Mutual Information for all features\n",
        "    mi_selector = SelectKBest(mutual_info_classif, k=15)\n",
        "    mi_selector.fit_transform(X, y)\n",
        "    selected_features_mi = X.columns[mi_selector.get_support()]\n",
        "    print(\"Selected features based on Mutual Information:\")\n",
        "    print(selected_features_mi)\n",
        "\n",
        "    # Variance Threshold for continuous features\n",
        "    threshold = 0.05\n",
        "    var_threshold = VarianceThreshold(threshold=threshold)\n",
        "    var_threshold.fit_transform(X[continuous_features])\n",
        "    selected_features_var = X[continuous_features].columns[var_threshold.get_support()]\n",
        "    print(\"Selected continuous features based on Variance Threshold:\")\n",
        "    print(selected_features_var)\n",
        "    print(len(selected_features_var))\n",
        "\n",
        "\n",
        "    # Combine all selected features\n",
        "    selected_features_all = set(selected_features_corr) | set(selected_features_chi2) | set(selected_features_mi) | set(selected_features_var)\n",
        "\n",
        "    # Original features\n",
        "    original_features = set(X.columns)\n",
        "\n",
        "    # Find features not selected by any method\n",
        "    least_selected_features = original_features - selected_features_all\n",
        "\n",
        "    boosting_selected_features = set()\n",
        "\n",
        "    least_selected_features_list = list(least_selected_features | boosting_selected_features)\n",
        "\n",
        "    print(least_selected_features)"
      ],
      "metadata": {
        "papermill": {
          "duration": 0.027284,
          "end_time": "2024-08-16T07:28:56.58785",
          "exception": false,
          "start_time": "2024-08-16T07:28:56.560566",
          "status": "completed"
        },
        "tags": [],
        "trusted": true,
        "id": "yn7IAQxO623Y"
      },
      "execution_count": null,
      "outputs": []
    },
    {
      "cell_type": "markdown",
      "source": [
        "# TEST PREDICTION"
      ],
      "metadata": {
        "papermill": {
          "duration": 0.013922,
          "end_time": "2024-08-16T07:28:56.615836",
          "exception": false,
          "start_time": "2024-08-16T07:28:56.601914",
          "status": "completed"
        },
        "tags": [],
        "id": "KBQaEm56623Z"
      }
    },
    {
      "cell_type": "code",
      "source": [
        "# df_subm['target'] = estimator.predict_proba(df_test[feature_cols])[:, 1]\n",
        "\n",
        "# df_subm.to_csv('submission.csv')\n",
        "# df_subm.head()"
      ],
      "metadata": {
        "papermill": {
          "duration": 0.116204,
          "end_time": "2024-08-16T07:28:56.746162",
          "exception": false,
          "start_time": "2024-08-16T07:28:56.629958",
          "status": "completed"
        },
        "tags": [],
        "trusted": true,
        "id": "5cGtHVYH623Z"
      },
      "execution_count": null,
      "outputs": []
    }
  ]
}