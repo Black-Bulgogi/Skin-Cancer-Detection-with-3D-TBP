{
 "cells": [
  {
   "cell_type": "markdown",
   "id": "ed1a0149",
   "metadata": {
    "papermill": {
     "duration": 0.010449,
     "end_time": "2024-09-03T09:20:53.721398",
     "exception": false,
     "start_time": "2024-09-03T09:20:53.710949",
     "status": "completed"
    },
    "tags": []
   },
   "source": [
    "## Import Library and Config"
   ]
  },
  {
   "cell_type": "code",
   "execution_count": 1,
   "id": "41e7802d",
   "metadata": {
    "execution": {
     "iopub.execute_input": "2024-09-03T09:20:53.741806Z",
     "iopub.status.busy": "2024-09-03T09:20:53.741417Z",
     "iopub.status.idle": "2024-09-03T09:20:59.703901Z",
     "shell.execute_reply": "2024-09-03T09:20:59.703053Z"
    },
    "papermill": {
     "duration": 5.975382,
     "end_time": "2024-09-03T09:20:59.706245",
     "exception": false,
     "start_time": "2024-09-03T09:20:53.730863",
     "status": "completed"
    },
    "tags": []
   },
   "outputs": [],
   "source": [
    "import warnings\n",
    "warnings.filterwarnings(\"ignore\")\n",
    "\n",
    "import numpy as np\n",
    "import pandas as pd\n",
    "import polars as pl\n",
    "import os\n",
    "from pathlib import Path\n",
    "\n",
    "import matplotlib.pyplot as plt\n",
    "import seaborn as sns\n",
    "%matplotlib inline\n",
    "\n",
    "from sklearn.model_selection import StratifiedGroupKFold\n",
    "from sklearn.model_selection import cross_val_score\n",
    "from sklearn.preprocessing import OneHotEncoder\n",
    "from sklearn.metrics import roc_auc_score\n",
    "from sklearn.ensemble import VotingClassifier\n",
    "\n",
    "from imblearn.under_sampling import RandomUnderSampler\n",
    "from imblearn.pipeline import Pipeline\n",
    "from imblearn.over_sampling import RandomOverSampler\n",
    "\n",
    "import lightgbm as lgb\n",
    "\n",
    "import time\n",
    "from sklearn.feature_selection import SelectKBest, chi2, mutual_info_classif, VarianceThreshold"
   ]
  },
  {
   "cell_type": "markdown",
   "id": "01962883",
   "metadata": {
    "papermill": {
     "duration": 0.009054,
     "end_time": "2024-09-03T09:20:59.725102",
     "exception": false,
     "start_time": "2024-09-03T09:20:59.716048",
     "status": "completed"
    },
    "tags": []
   },
   "source": [
    "## Data Loading and Setting"
   ]
  },
  {
   "cell_type": "code",
   "execution_count": 2,
   "id": "6955ed6c",
   "metadata": {
    "execution": {
     "iopub.execute_input": "2024-09-03T09:20:59.745697Z",
     "iopub.status.busy": "2024-09-03T09:20:59.745013Z",
     "iopub.status.idle": "2024-09-03T09:21:07.185897Z",
     "shell.execute_reply": "2024-09-03T09:21:07.184961Z"
    },
    "papermill": {
     "duration": 7.453979,
     "end_time": "2024-09-03T09:21:07.188470",
     "exception": false,
     "start_time": "2024-09-03T09:20:59.734491",
     "status": "completed"
    },
    "tags": []
   },
   "outputs": [],
   "source": [
    "# Data Load\n",
    "df_train = pd.read_csv('/kaggle/input/isic-2024-challenge/train-metadata.csv')\n",
    "df_test  = pd.read_csv('/kaggle/input/isic-2024-challenge/test-metadata.csv')\n",
    "\n",
    "# Pandas 출력 Option 설정 \n",
    "pd.set_option('display.max_columns',100 , ) # 최대 100개의 열을 표시되도록 설정\n",
    "pd.set_option('display.width', 200) # 최대 200자까지 한줄로 표시되도록 설정"
   ]
  },
  {
   "cell_type": "markdown",
   "id": "f260d75b",
   "metadata": {
    "papermill": {
     "duration": 0.009283,
     "end_time": "2024-09-03T09:21:07.207913",
     "exception": false,
     "start_time": "2024-09-03T09:21:07.198630",
     "status": "completed"
    },
    "tags": []
   },
   "source": [
    "## Pre-trained Models, Generating Image Prediction Results\n",
    "\n",
    "Pre-Train EffNet, Vision Transformer Model를 사용해 Image 예측 결과를 생성한다. "
   ]
  },
  {
   "cell_type": "code",
   "execution_count": 3,
   "id": "ac21a7c4",
   "metadata": {
    "execution": {
     "iopub.execute_input": "2024-09-03T09:21:07.228343Z",
     "iopub.status.busy": "2024-09-03T09:21:07.227977Z",
     "iopub.status.idle": "2024-09-03T09:21:41.403038Z",
     "shell.execute_reply": "2024-09-03T09:21:41.401706Z"
    },
    "papermill": {
     "duration": 34.188317,
     "end_time": "2024-09-03T09:21:41.405726",
     "exception": false,
     "start_time": "2024-09-03T09:21:07.217409",
     "status": "completed"
    },
    "tags": []
   },
   "outputs": [
    {
     "name": "stdout",
     "output_type": "stream",
     "text": [
      "/opt/conda/lib/python3.10/site-packages/albumentations/check_version.py:49: UserWarning: Error fetching version info <urlopen error [Errno -3] Temporary failure in name resolution>\r\n",
      "  data = fetch_version_info()\r\n",
      "BEST_WEIGHT = /kaggle/input/isic-pytorch-training-baseline-image-only/AUROC0.5171_Loss0.3476_epoch35.bin\r\n",
      "100%|█████████████████████████████████████████████| 1/1 [00:00<00:00,  1.00it/s]\r\n"
     ]
    }
   ],
   "source": [
    "!python /kaggle/input/isic-script-inference-effnetv1b0-f313ae/main.py /kaggle/input/isic-pytorch-training-baseline-image-only/AUROC0.5171_Loss0.3476_epoch35.bin\n",
    "!mv submission.csv submission_effnetv1b0.csv"
   ]
  },
  {
   "cell_type": "code",
   "execution_count": 4,
   "id": "a6fc32b8",
   "metadata": {
    "execution": {
     "iopub.execute_input": "2024-09-03T09:21:41.427284Z",
     "iopub.status.busy": "2024-09-03T09:21:41.426918Z",
     "iopub.status.idle": "2024-09-03T09:22:12.987646Z",
     "shell.execute_reply": "2024-09-03T09:22:12.986274Z"
    },
    "papermill": {
     "duration": 31.574438,
     "end_time": "2024-09-03T09:22:12.990189",
     "exception": false,
     "start_time": "2024-09-03T09:21:41.415751",
     "status": "completed"
    },
    "tags": []
   },
   "outputs": [
    {
     "name": "stdout",
     "output_type": "stream",
     "text": [
      "/opt/conda/lib/python3.10/site-packages/albumentations/check_version.py:49: UserWarning: Error fetching version info <urlopen error [Errno -3] Temporary failure in name resolution>\r\n",
      "  data = fetch_version_info()\r\n",
      "BEST_WEIGHT = /kaggle/input/isic-pytorch-training-baseline-eva02/AUROC0.5177_Loss0.2829_epoch7.bin\r\n",
      "100%|█████████████████████████████████████████████| 1/1 [00:00<00:00,  2.20it/s]\r\n"
     ]
    }
   ],
   "source": [
    "!python /kaggle/input/isic-script-inference-eva02/main.py /kaggle/input/isic-pytorch-training-baseline-eva02/AUROC0.5177_Loss0.2829_epoch7.bin\n",
    "!mv submission.csv submission_eva02.csv"
   ]
  },
  {
   "cell_type": "markdown",
   "id": "5cd02a6b",
   "metadata": {
    "papermill": {
     "duration": 0.010139,
     "end_time": "2024-09-03T09:22:13.010713",
     "exception": false,
     "start_time": "2024-09-03T09:22:13.000574",
     "status": "completed"
    },
    "tags": []
   },
   "source": [
    "## Path and Parameter Setting"
   ]
  },
  {
   "cell_type": "code",
   "execution_count": 5,
   "id": "c0f7faa9",
   "metadata": {
    "execution": {
     "iopub.execute_input": "2024-09-03T09:22:13.032993Z",
     "iopub.status.busy": "2024-09-03T09:22:13.032617Z",
     "iopub.status.idle": "2024-09-03T09:22:13.038668Z",
     "shell.execute_reply": "2024-09-03T09:22:13.037881Z"
    },
    "papermill": {
     "duration": 0.019486,
     "end_time": "2024-09-03T09:22:13.040559",
     "exception": false,
     "start_time": "2024-09-03T09:22:13.021073",
     "status": "completed"
    },
    "tags": []
   },
   "outputs": [],
   "source": [
    "root = Path('/kaggle/input/isic-2024-challenge')\n",
    "\n",
    "train_path = root / 'train-metadata.csv'\n",
    "test_path = root / 'test-metadata.csv'\n",
    "subm_path = root / 'sample_submission.csv'\n",
    "\n",
    "id_col = 'isic_id'\n",
    "target_col = 'target'\n",
    "group_col = 'patient_id'\n",
    "\n",
    "err = 1e-5 # 계산 시 0으로 나누는 것을 방지하기 위해 사용하는 작은 상수\n",
    "sampling_ratio = 0.01 # Class 불균형을 조정하기 위한 Sampling 비율\n",
    "seed = 42 # 난수 생성의 일관성을 유지하기 위한 Random Seed 값 "
   ]
  },
  {
   "cell_type": "markdown",
   "id": "e7ea97e6",
   "metadata": {
    "papermill": {
     "duration": 0.009894,
     "end_time": "2024-09-03T09:22:13.060303",
     "exception": false,
     "start_time": "2024-09-03T09:22:13.050409",
     "status": "completed"
    },
    "tags": []
   },
   "source": [
    "## Feature Column Setting"
   ]
  },
  {
   "cell_type": "code",
   "execution_count": 6,
   "id": "04231672",
   "metadata": {
    "execution": {
     "iopub.execute_input": "2024-09-03T09:22:13.081024Z",
     "iopub.status.busy": "2024-09-03T09:22:13.080712Z",
     "iopub.status.idle": "2024-09-03T09:22:13.086823Z",
     "shell.execute_reply": "2024-09-03T09:22:13.085941Z"
    },
    "papermill": {
     "duration": 0.018725,
     "end_time": "2024-09-03T09:22:13.088737",
     "exception": false,
     "start_time": "2024-09-03T09:22:13.070012",
     "status": "completed"
    },
    "tags": []
   },
   "outputs": [],
   "source": [
    "# 기존의 수치형 Features의 List\n",
    "num_cols = [\n",
    "    'age_approx',                        \n",
    "    'clin_size_long_diam_mm',            \n",
    "    'tbp_lv_A',                          \n",
    "    'tbp_lv_Aext',                       \n",
    "    'tbp_lv_B',                          \n",
    "    'tbp_lv_Bext',                       \n",
    "    'tbp_lv_C',                          \n",
    "    'tbp_lv_Cext',                       \n",
    "    'tbp_lv_H',                          \n",
    "    'tbp_lv_Hext',                       \n",
    "    'tbp_lv_L',                          \n",
    "    'tbp_lv_Lext',                       \n",
    "    'tbp_lv_areaMM2',                    \n",
    "    'tbp_lv_area_perim_ratio',           \n",
    "    'tbp_lv_color_std_mean',             \n",
    "    'tbp_lv_deltaA',                     \n",
    "    'tbp_lv_deltaB',                     \n",
    "    'tbp_lv_deltaL',                     \n",
    "    'tbp_lv_deltaLB',                    \n",
    "    'tbp_lv_deltaLBnorm',                \n",
    "    'tbp_lv_eccentricity',               \n",
    "    'tbp_lv_minorAxisMM',                \n",
    "    'tbp_lv_nevi_confidence',            \n",
    "    'tbp_lv_norm_border',                \n",
    "    'tbp_lv_norm_color',                 \n",
    "    'tbp_lv_perimeterMM',                \n",
    "    'tbp_lv_radial_color_std_max',       \n",
    "    'tbp_lv_stdL',                       \n",
    "    'tbp_lv_stdLExt',                    \n",
    "    'tbp_lv_symm_2axis',                 \n",
    "    'tbp_lv_symm_2axis_angle',           \n",
    "    'tbp_lv_x',                          \n",
    "    'tbp_lv_y',                          \n",
    "    'tbp_lv_z',                          \n",
    "]"
   ]
  },
  {
   "cell_type": "code",
   "execution_count": 7,
   "id": "3084ee3b",
   "metadata": {
    "execution": {
     "iopub.execute_input": "2024-09-03T09:22:13.109606Z",
     "iopub.status.busy": "2024-09-03T09:22:13.109346Z",
     "iopub.status.idle": "2024-09-03T09:22:13.116082Z",
     "shell.execute_reply": "2024-09-03T09:22:13.115230Z"
    },
    "papermill": {
     "duration": 0.019571,
     "end_time": "2024-09-03T09:22:13.117966",
     "exception": false,
     "start_time": "2024-09-03T09:22:13.098395",
     "status": "completed"
    },
    "tags": []
   },
   "outputs": [],
   "source": [
    "# 기존 Features를 조합해서 만든 새로운 Numerical Features\n",
    "new_num_cols = [\n",
    "    'lesion_size_ratio',             # tbp_lv_minorAxisMM      / clin_size_long_diam_mm\n",
    "    'lesion_shape_index',            # tbp_lv_areaMM2          / tbp_lv_perimeterMM ** 2\n",
    "    'hue_contrast',                  # abs(tbp_lv_H            - tbp_lv_Hext)\n",
    "    'luminance_contrast',            # abs(tbp_lv_L            - tbp_lv_Lext)\n",
    "    'lesion_color_difference',       # sqrt(tbp_lv_deltaA **2  + tbp_lv_deltaB ** 2 + tbp_lv_deltaL ** 2)  \n",
    "    'border_complexity',             # tbp_lv_norm_border      + tbp_lv_symm_2axis\n",
    "    'color_uniformity',              # tbp_lv_color_std_mean   / tbp_lv_radial_color_std_max\n",
    "\n",
    "    'position_distance_3d',          # sqrt(tbp_lv_x ** 2 + tbp_lv_y ** 2 + tbp_lv_z ** 2)\n",
    "    'perimeter_to_area_ratio',       # tbp_lv_perimeterMM      / tbp_lv_areaMM2\n",
    "    'area_to_perimeter_ratio',       # tbp_lv_areaMM2          / tbp_lv_perimeterMM\n",
    "    'lesion_visibility_score',       # tbp_lv_deltaLBnorm      + tbp_lv_norm_color\n",
    "    'symmetry_border_consistency',   # tbp_lv_symm_2axis       * tbp_lv_norm_border\n",
    "    'consistency_symmetry_border',   # tbp_lv_symm_2axis       * tbp_lv_norm_border / (tbp_lv_symm_2axis + tbp_lv_norm_border)\n",
    "\n",
    "    'color_consistency',             # tbp_lv_stdL             / tbp_lv_Lext\n",
    "    'consistency_color',             # tbp_lv_stdL * tbp_lv_Lext / (tbp_lv_stdL + tbp_lv_Lext)\n",
    "    'size_age_interaction',          # clin_size_long_diam_mm  * age_approx\n",
    "    'hue_color_std_interaction',     # tbp_lv_H                * tbp_lv_color_std_mean\n",
    "    'lesion_severity_index',         # (tbp_lv_norm_border     + tbp_lv_norm_color + tbp_lv_eccentricity) / 3\n",
    "    'shape_complexity_index',        # border_complexity       + lesion_shape_index\n",
    "    'color_contrast_index',          # tbp_lv_deltaA + tbp_lv_deltaB + tbp_lv_deltaL + tbp_lv_deltaLBnorm\n",
    "\n",
    "    'log_lesion_area',               # log(tbp_lv_areaMM2 + 1)\n",
    "    'normalized_lesion_size',        # clin_size_long_diam_mm  / age_approx\n",
    "    'mean_hue_difference',           # (tbp_lv_H + tbp_lv_Hext) / 2\n",
    "    'std_dev_contrast',              # sqrt((tbp_lv_deltaA ** 2 + tbp_lv_deltaB ** 2 + tbp_lv_deltaL ** 2) / 3)\n",
    "    'color_shape_composite_index',   # (tbp_lv_color_std_mean + tbp_lv_area_perim_ratio + tbp_lv_symm_2axis) / 3\n",
    "    'lesion_orientation_3d',         # arctan2(tbp_lv_y, tbp_lv_x)\n",
    "    'overall_color_difference',      # (tbp_lv_deltaA + tbp_lv_deltaB + tbp_lv_deltaL) / 3\n",
    "]"
   ]
  },
  {
   "cell_type": "markdown",
   "id": "a5fef555",
   "metadata": {
    "papermill": {
     "duration": 0.009644,
     "end_time": "2024-09-03T09:22:13.137263",
     "exception": false,
     "start_time": "2024-09-03T09:22:13.127619",
     "status": "completed"
    },
    "tags": []
   },
   "source": [
    "## Categorical and Special Column Settings\n",
    "\n",
    "'cat_cols' : Categorical Data Columns로 OneHot-Encoding이 필요하다. <br>\n",
    "'norm_cols' : 환자 기준으로 정규화 된 Feature들의 Columns로 각 Numerical Feature는 환자 Group 내에서 정규화된다. <br>\n",
    "'special_cols' : 특수한 Feature들의 List <br>\n",
    "'image_cols' : Image Model의 예측 결과로 생성된 Columns"
   ]
  },
  {
   "cell_type": "code",
   "execution_count": 8,
   "id": "dc437ec7",
   "metadata": {
    "execution": {
     "iopub.execute_input": "2024-09-03T09:22:13.158219Z",
     "iopub.status.busy": "2024-09-03T09:22:13.157938Z",
     "iopub.status.idle": "2024-09-03T09:22:13.162761Z",
     "shell.execute_reply": "2024-09-03T09:22:13.161945Z"
    },
    "papermill": {
     "duration": 0.017687,
     "end_time": "2024-09-03T09:22:13.164644",
     "exception": false,
     "start_time": "2024-09-03T09:22:13.146957",
     "status": "completed"
    },
    "tags": []
   },
   "outputs": [],
   "source": [
    "# Categorical Columns (Features)\n",
    "cat_cols = ['sex', 'anatom_site_general', 'tbp_tile_type', 'tbp_lv_location', 'tbp_lv_location_simple', 'attribution']\n",
    "\n",
    "# Normalized Columns, 환자 기준으로 정규화 된 Numerical Features\n",
    "norm_cols = [f'{col}_patient_norm' for col in num_cols + new_num_cols]\n",
    "\n",
    "# Special Columns, 특수한 Features \n",
    "special_cols = ['count_per_patient']\n",
    "\n",
    "# Image Columns, Image Model에서 생성된 예측 결과를 추가한 Features\n",
    "image_col = ['target_effnetv1b0', 'target_eva02']"
   ]
  },
  {
   "cell_type": "code",
   "execution_count": 9,
   "id": "fa65c5b1",
   "metadata": {
    "execution": {
     "iopub.execute_input": "2024-09-03T09:22:13.185037Z",
     "iopub.status.busy": "2024-09-03T09:22:13.184758Z",
     "iopub.status.idle": "2024-09-03T09:22:13.188595Z",
     "shell.execute_reply": "2024-09-03T09:22:13.187779Z"
    },
    "papermill": {
     "duration": 0.016222,
     "end_time": "2024-09-03T09:22:13.190482",
     "exception": false,
     "start_time": "2024-09-03T09:22:13.174260",
     "status": "completed"
    },
    "tags": []
   },
   "outputs": [],
   "source": [
    "# All feature columns\n",
    "feature_cols = num_cols + new_num_cols + cat_cols + norm_cols + special_cols + image_col "
   ]
  },
  {
   "cell_type": "markdown",
   "id": "13cae296",
   "metadata": {
    "papermill": {
     "duration": 0.009895,
     "end_time": "2024-09-03T09:22:13.210147",
     "exception": false,
     "start_time": "2024-09-03T09:22:13.200252",
     "status": "completed"
    },
    "tags": []
   },
   "source": [
    "## Data Preprocess Function\n",
    "\n",
    "Categorical Variables를 OneHot-Encoding해 'new_cat_cols' Column에 저장한다. <br>\n",
    "Image Model의 예측 결과를 'target_effnetv1b0', 'target_eva02'라는 새로운 Column로 Train Data, Test Data에 추가한다. <br>\n",
    "기존 'cat_cols'을 제거하고 Encoding 된 새로운 Columns 'new_cat_cols'로 대체해 'feature_cols'에 Update 한다. "
   ]
  },
  {
   "cell_type": "code",
   "execution_count": 10,
   "id": "ba2273d7",
   "metadata": {
    "execution": {
     "iopub.execute_input": "2024-09-03T09:22:13.231006Z",
     "iopub.status.busy": "2024-09-03T09:22:13.230681Z",
     "iopub.status.idle": "2024-09-03T09:22:13.240307Z",
     "shell.execute_reply": "2024-09-03T09:22:13.239558Z"
    },
    "papermill": {
     "duration": 0.022297,
     "end_time": "2024-09-03T09:22:13.242217",
     "exception": false,
     "start_time": "2024-09-03T09:22:13.219920",
     "status": "completed"
    },
    "tags": []
   },
   "outputs": [],
   "source": [
    "def preprocess(df_train, df_test):\n",
    "    global cat_cols, feature_cols \n",
    "    \n",
    "    # OneHot-Encoding for Categorical Features\n",
    "    encoder = OneHotEncoder(sparse_output = False, dtype = np.int32, handle_unknown = 'ignore')\n",
    "    encoder.fit(df_train[cat_cols])\n",
    "    \n",
    "    new_cat_cols = [f'onehot_{i}' for i in range(len(encoder.get_feature_names_out()))]\n",
    "\n",
    "    df_train[new_cat_cols] = encoder.transform(df_train[cat_cols])\n",
    "    df_train[new_cat_cols] = df_train[new_cat_cols].astype('category')\n",
    "\n",
    "    df_test[new_cat_cols] = encoder.transform(df_test[cat_cols])\n",
    "    df_test[new_cat_cols] = df_test[new_cat_cols].astype('category')\n",
    "    \n",
    "    # Add Image Prediction Features\n",
    "    # effnetv1b0\n",
    "    df_eff = pd.read_csv(\"/kaggle/input/isic-inference-effnetv1b0-for-training-data/train_effnetv1b0.csv\")\n",
    "    df_train[\"target_effnetv1b0\"] = df_eff[\"target_effnetv1b0\"]\n",
    "\n",
    "    df_eff = pd.read_csv(\"/kaggle/input/isic-tabular-model-image-model-features/submission_effnetv1b0.csv\")\n",
    "    df_test[\"target_effnetv1b0\"] = df_eff[\"target\"]\n",
    "    \n",
    "    # eva02\n",
    "    df_eva = pd.read_csv(\"/kaggle/input/isic-inference-eva02-for-training-data/train_eva02.csv\")\n",
    "    df_train[\"target_eva02\"] = df_eva[\"target_eva02\"]\n",
    "\n",
    "    df_eva = pd.read_csv(\"/kaggle/input/isic-tabular-model-image-model-features/submission_eva02.csv\")\n",
    "    df_test[\"target_eva02\"] = df_eva[\"target\"]\n",
    "\n",
    "    # Remove Original Categorical Columns and Replace with Encoded Ones\n",
    "    for col in cat_cols:\n",
    "        feature_cols.remove(col)\n",
    "\n",
    "    feature_cols.extend(new_cat_cols)\n",
    "    cat_cols = new_cat_cols\n",
    "    \n",
    "    # Ensure image columns are in feature_cols\n",
    "    for col in image_col:\n",
    "        if col not in feature_cols:\n",
    "            feature_cols.append(col)\n",
    "    \n",
    "    return df_train, df_test"
   ]
  },
  {
   "cell_type": "markdown",
   "id": "5d5bcc30",
   "metadata": {
    "papermill": {
     "duration": 0.009856,
     "end_time": "2024-09-03T09:22:13.262830",
     "exception": false,
     "start_time": "2024-09-03T09:22:13.252974",
     "status": "completed"
    },
    "tags": []
   },
   "source": [
    "## Data Read Function\n",
    "\n",
    "'pl.read_csv'로 Data를 읽어온다. <br>\n",
    "새로운 Numerical Feature, 특수 Feature, 환자당 Sample 수와 정규화 된 Feature를 생성한다. <br>\n",
    "결측치는 중앙값으로 대체한다. <br>\n",
    "Categorical Data를 'Catecorical'로 변환해 Memory를 절약한다. <br>\n",
    "DataFrame을 Pandas 형식으로 변환 후 반환한다. "
   ]
  },
  {
   "cell_type": "code",
   "execution_count": 11,
   "id": "865636f1",
   "metadata": {
    "execution": {
     "iopub.execute_input": "2024-09-03T09:22:13.283988Z",
     "iopub.status.busy": "2024-09-03T09:22:13.283708Z",
     "iopub.status.idle": "2024-09-03T09:22:13.310141Z",
     "shell.execute_reply": "2024-09-03T09:22:13.309174Z"
    },
    "papermill": {
     "duration": 0.039788,
     "end_time": "2024-09-03T09:22:13.312238",
     "exception": false,
     "start_time": "2024-09-03T09:22:13.272450",
     "status": "completed"
    },
    "tags": []
   },
   "outputs": [],
   "source": [
    " def read_data(path):\n",
    "    return (\n",
    "        pl.read_csv(path)\n",
    "        .with_columns(\n",
    "            pl.col('age_approx').cast(pl.String).replace('NA', np.nan).cast(pl.Float64),\n",
    "        )\n",
    "        .with_columns(\n",
    "            pl.col(pl.Float64).fill_nan(pl.col(pl.Float64).median()), \n",
    "        )\n",
    "        .with_columns(\n",
    "            lesion_size_ratio              = pl.col('tbp_lv_minorAxisMM') / pl.col('clin_size_long_diam_mm'),\n",
    "            lesion_shape_index             = pl.col('tbp_lv_areaMM2') / (pl.col('tbp_lv_perimeterMM') ** 2),\n",
    "            hue_contrast                   = (pl.col('tbp_lv_H') - pl.col('tbp_lv_Hext')).abs(),\n",
    "            luminance_contrast             = (pl.col('tbp_lv_L') - pl.col('tbp_lv_Lext')).abs(),\n",
    "            lesion_color_difference        = (pl.col('tbp_lv_deltaA') ** 2 + pl.col('tbp_lv_deltaB') ** 2 + pl.col('tbp_lv_deltaL') ** 2).sqrt(),\n",
    "            border_complexity              = pl.col('tbp_lv_norm_border') + pl.col('tbp_lv_symm_2axis'),\n",
    "            color_uniformity               = pl.col('tbp_lv_color_std_mean') / (pl.col('tbp_lv_radial_color_std_max') + err),\n",
    "        )\n",
    "        .with_columns(\n",
    "            position_distance_3d           = (pl.col('tbp_lv_x') ** 2 + pl.col('tbp_lv_y') ** 2 + pl.col('tbp_lv_z') ** 2).sqrt(),\n",
    "            perimeter_to_area_ratio        = pl.col('tbp_lv_perimeterMM') / pl.col('tbp_lv_areaMM2'),\n",
    "            area_to_perimeter_ratio        = pl.col('tbp_lv_areaMM2') / pl.col('tbp_lv_perimeterMM'),\n",
    "            lesion_visibility_score        = pl.col('tbp_lv_deltaLBnorm') + pl.col('tbp_lv_norm_color'),\n",
    "            combined_anatomical_site       = pl.col('anatom_site_general') + '_' + pl.col('tbp_lv_location'),\n",
    "            symmetry_border_consistency    = pl.col('tbp_lv_symm_2axis') * pl.col('tbp_lv_norm_border'),\n",
    "            consistency_symmetry_border    = pl.col('tbp_lv_symm_2axis') * pl.col('tbp_lv_norm_border') / (pl.col('tbp_lv_symm_2axis') + pl.col('tbp_lv_norm_border')),\n",
    "        )\n",
    "        .with_columns(\n",
    "            color_consistency              = pl.col('tbp_lv_stdL') / pl.col('tbp_lv_Lext'),\n",
    "            consistency_color              = pl.col('tbp_lv_stdL') * pl.col('tbp_lv_Lext') / (pl.col('tbp_lv_stdL') + pl.col('tbp_lv_Lext')),\n",
    "            size_age_interaction           = pl.col('clin_size_long_diam_mm') * pl.col('age_approx'),\n",
    "            hue_color_std_interaction      = pl.col('tbp_lv_H') * pl.col('tbp_lv_color_std_mean'),\n",
    "            lesion_severity_index          = (pl.col('tbp_lv_norm_border') + pl.col('tbp_lv_norm_color') + pl.col('tbp_lv_eccentricity')) / 3,\n",
    "            shape_complexity_index         = pl.col('border_complexity') + pl.col('lesion_shape_index'),\n",
    "            color_contrast_index           = pl.col('tbp_lv_deltaA') + pl.col('tbp_lv_deltaB') + pl.col('tbp_lv_deltaL') + pl.col('tbp_lv_deltaLBnorm'),\n",
    "        )\n",
    "        .with_columns(\n",
    "            log_lesion_area                = (pl.col('tbp_lv_areaMM2') + 1).log(),\n",
    "            normalized_lesion_size         = pl.col('clin_size_long_diam_mm') / pl.col('age_approx'),\n",
    "            mean_hue_difference            = (pl.col('tbp_lv_H') + pl.col('tbp_lv_Hext')) / 2,\n",
    "            std_dev_contrast               = ((pl.col('tbp_lv_deltaA') ** 2 + pl.col('tbp_lv_deltaB') ** 2 + pl.col('tbp_lv_deltaL') ** 2) / 3).sqrt(),\n",
    "            color_shape_composite_index    = (pl.col('tbp_lv_color_std_mean') + pl.col('tbp_lv_area_perim_ratio') + pl.col('tbp_lv_symm_2axis')) / 3,\n",
    "            lesion_orientation_3d          = pl.arctan2(pl.col('tbp_lv_y'), pl.col('tbp_lv_x')),\n",
    "            overall_color_difference       = (pl.col('tbp_lv_deltaA') + pl.col('tbp_lv_deltaB') + pl.col('tbp_lv_deltaL')) / 3,\n",
    "        )\n",
    "        .with_columns(\n",
    "            symmetry_perimeter_interaction = pl.col('tbp_lv_symm_2axis') * pl.col('tbp_lv_perimeterMM'),\n",
    "            comprehensive_lesion_index     = (pl.col('tbp_lv_area_perim_ratio') + pl.col('tbp_lv_eccentricity') + pl.col('tbp_lv_norm_color') + pl.col('tbp_lv_symm_2axis')) / 4,\n",
    "            color_variance_ratio           = pl.col('tbp_lv_color_std_mean') / pl.col('tbp_lv_stdLExt'),\n",
    "            border_color_interaction       = pl.col('tbp_lv_norm_border') * pl.col('tbp_lv_norm_color'),\n",
    "            border_color_interaction_2     = pl.col('tbp_lv_norm_border') * pl.col('tbp_lv_norm_color') / (pl.col('tbp_lv_norm_border') + pl.col('tbp_lv_norm_color')),\n",
    "            size_color_contrast_ratio      = pl.col('clin_size_long_diam_mm') / pl.col('tbp_lv_deltaLBnorm'),\n",
    "            age_normalized_nevi_confidence = pl.col('tbp_lv_nevi_confidence') / pl.col('age_approx'),\n",
    "            age_normalized_nevi_confidence_2 = (pl.col('clin_size_long_diam_mm')**2 + pl.col('age_approx')**2).sqrt(),\n",
    "            color_asymmetry_index          = pl.col('tbp_lv_radial_color_std_max') * pl.col('tbp_lv_symm_2axis'),\n",
    "        )\n",
    "        .with_columns(\n",
    "            volume_approximation_3d        = pl.col('tbp_lv_areaMM2') * (pl.col('tbp_lv_x')**2 + pl.col('tbp_lv_y')**2 + pl.col('tbp_lv_z')**2).sqrt(),\n",
    "            color_range                    = (pl.col('tbp_lv_L') - pl.col('tbp_lv_Lext')).abs() + (pl.col('tbp_lv_A') - pl.col('tbp_lv_Aext')).abs() + (pl.col('tbp_lv_B') - pl.col('tbp_lv_Bext')).abs(),\n",
    "            shape_color_consistency        = pl.col('tbp_lv_eccentricity') * pl.col('tbp_lv_color_std_mean'),\n",
    "            border_length_ratio            = pl.col('tbp_lv_perimeterMM') / (2 * np.pi * (pl.col('tbp_lv_areaMM2') / np.pi).sqrt()),\n",
    "            age_size_symmetry_index        = pl.col('age_approx') * pl.col('clin_size_long_diam_mm') * pl.col('tbp_lv_symm_2axis'),\n",
    "            index_age_size_symmetry        = pl.col('age_approx') * pl.col('tbp_lv_areaMM2') * pl.col('tbp_lv_symm_2axis'),\n",
    "        )\n",
    "        .with_columns(\n",
    "            ((pl.col(col) - pl.col(col).mean().over('patient_id')) / (pl.col(col).std().over('patient_id') + err)).alias(f'{col}_patient_norm') for col in (num_cols + new_num_cols)\n",
    "        )\n",
    "        .with_columns(\n",
    "            count_per_patient = pl.col('isic_id').count().over('patient_id'),\n",
    "        )\n",
    "        .with_columns(\n",
    "            pl.col(cat_cols).cast(pl.Categorical),\n",
    "        )\n",
    "        .to_pandas()\n",
    "        .set_index(id_col)\n",
    "    )"
   ]
  },
  {
   "cell_type": "markdown",
   "id": "0733893a",
   "metadata": {
    "papermill": {
     "duration": 0.009549,
     "end_time": "2024-09-03T09:22:13.331673",
     "exception": false,
     "start_time": "2024-09-03T09:22:13.322124",
     "status": "completed"
    },
    "tags": []
   },
   "source": [
    "## Data Read & Pre-Processing"
   ]
  },
  {
   "cell_type": "code",
   "execution_count": 12,
   "id": "cb35e487",
   "metadata": {
    "execution": {
     "iopub.execute_input": "2024-09-03T09:22:13.352736Z",
     "iopub.status.busy": "2024-09-03T09:22:13.352116Z",
     "iopub.status.idle": "2024-09-03T09:22:32.533835Z",
     "shell.execute_reply": "2024-09-03T09:22:32.532984Z"
    },
    "papermill": {
     "duration": 19.194838,
     "end_time": "2024-09-03T09:22:32.536258",
     "exception": false,
     "start_time": "2024-09-03T09:22:13.341420",
     "status": "completed"
    },
    "tags": []
   },
   "outputs": [],
   "source": [
    "# Data Read\n",
    "df_train = read_data(train_path)\n",
    "df_test = read_data(test_path)\n",
    "df_subm = pd.read_csv(subm_path, index_col = id_col)\n",
    "\n",
    "# Data Pre-Processing\n",
    "df_train, df_test = preprocess(df_train, df_test)"
   ]
  },
  {
   "cell_type": "markdown",
   "id": "b3eeff2e",
   "metadata": {
    "papermill": {
     "duration": 0.010106,
     "end_time": "2024-09-03T09:22:32.556783",
     "exception": false,
     "start_time": "2024-09-03T09:22:32.546677",
     "status": "completed"
    },
    "tags": []
   },
   "source": [
    "## LightGBM Model Hyperarameter Setting"
   ]
  },
  {
   "cell_type": "code",
   "execution_count": 13,
   "id": "d4667ed2",
   "metadata": {
    "execution": {
     "iopub.execute_input": "2024-09-03T09:22:32.578348Z",
     "iopub.status.busy": "2024-09-03T09:22:32.577969Z",
     "iopub.status.idle": "2024-09-03T09:22:32.584046Z",
     "shell.execute_reply": "2024-09-03T09:22:32.583198Z"
    },
    "papermill": {
     "duration": 0.01936,
     "end_time": "2024-09-03T09:22:32.586170",
     "exception": false,
     "start_time": "2024-09-03T09:22:32.566810",
     "status": "completed"
    },
    "tags": []
   },
   "outputs": [],
   "source": [
    "lgb_params = {\n",
    "    'objective':        'binary',\n",
    "    'verbosity':        -1,\n",
    "    'n_iter':           200,\n",
    "    'boosting_type':    'gbdt',\n",
    "    'random_state':     seed,\n",
    "    'lambda_l1':        0.08758718919397321, \n",
    "    'lambda_l2':        0.0039689175176025465, \n",
    "    'learning_rate':    0.03231007103195577, \n",
    "    'max_depth':        4, \n",
    "    'num_leaves':       103, \n",
    "    'colsample_bytree': 0.8329551585827726, \n",
    "    'colsample_bynode': 0.4025961355653304, \n",
    "    'bagging_fraction': 0.7738954452473223, \n",
    "    'bagging_freq':     4, \n",
    "    'min_data_in_leaf': 85, \n",
    "    'scale_pos_weight': 2.7984184778875543,\n",
    "}"
   ]
  },
  {
   "cell_type": "markdown",
   "id": "941e6041",
   "metadata": {
    "papermill": {
     "duration": 0.010248,
     "end_time": "2024-09-03T09:22:32.606683",
     "exception": false,
     "start_time": "2024-09-03T09:22:32.596435",
     "status": "completed"
    },
    "tags": []
   },
   "source": [
    "## LightGBM Model Pipline\n",
    "\n",
    "Pipline을 사용해 Data Sampling과 Model Train을 연결한다. <br>\n",
    "Oversampling, Undersampling을 통해 Class 불균형을 조정한 후 LightGBM Model을 Train한다. "
   ]
  },
  {
   "cell_type": "code",
   "execution_count": 14,
   "id": "9b1aab2f",
   "metadata": {
    "execution": {
     "iopub.execute_input": "2024-09-03T09:22:32.627596Z",
     "iopub.status.busy": "2024-09-03T09:22:32.627272Z",
     "iopub.status.idle": "2024-09-03T09:22:32.632399Z",
     "shell.execute_reply": "2024-09-03T09:22:32.631475Z"
    },
    "papermill": {
     "duration": 0.017696,
     "end_time": "2024-09-03T09:22:32.634319",
     "exception": false,
     "start_time": "2024-09-03T09:22:32.616623",
     "status": "completed"
    },
    "tags": []
   },
   "outputs": [],
   "source": [
    "lgb_model = Pipeline([\n",
    "    ('sampler_1', RandomOverSampler(sampling_strategy = 0.003, random_state = seed)),\n",
    "    ('sampler_2', RandomUnderSampler(sampling_strategy = sampling_ratio, random_state = seed)),\n",
    "    ('classifier', lgb.LGBMClassifier(**lgb_params)),\n",
    "])"
   ]
  },
  {
   "cell_type": "markdown",
   "id": "124e14db",
   "metadata": {
    "papermill": {
     "duration": 0.009576,
     "end_time": "2024-09-03T09:22:32.654079",
     "exception": false,
     "start_time": "2024-09-03T09:22:32.644503",
     "status": "completed"
    },
    "tags": []
   },
   "source": [
    "## StratifiedGroupKFold\n",
    "\n",
    "StratifiedGroupKFold(교차 검증)을 사용해 5-Fold 교차 검증을 설정한다. <br>\n",
    "이후 'cross_val_score' Function을 사용해 Model의 성능을 평가하고, ROC AUC Score의 평균을 출력한다."
   ]
  },
  {
   "cell_type": "code",
   "execution_count": 15,
   "id": "4ea85515",
   "metadata": {
    "execution": {
     "iopub.execute_input": "2024-09-03T09:22:32.674744Z",
     "iopub.status.busy": "2024-09-03T09:22:32.674451Z",
     "iopub.status.idle": "2024-09-03T09:23:34.685476Z",
     "shell.execute_reply": "2024-09-03T09:23:34.684447Z"
    },
    "papermill": {
     "duration": 62.033961,
     "end_time": "2024-09-03T09:23:34.697678",
     "exception": false,
     "start_time": "2024-09-03T09:22:32.663717",
     "status": "completed"
    },
    "tags": []
   },
   "outputs": [
    {
     "name": "stdout",
     "output_type": "stream",
     "text": [
      "Cross-validation AUC score: 0.9643\n"
     ]
    }
   ],
   "source": [
    "# 'X', 'y' = Model에 사용할 Feature와 Target Data를 설정한다\n",
    "X = df_train[feature_cols]\n",
    "y = df_train[target_col]\n",
    "# 'group' = 환자 ID 별로 Group화 된 Data를 설정한다. \n",
    "groups = df_train[group_col]\n",
    "cv = StratifiedGroupKFold(5, shuffle = True, random_state = seed)\n",
    "\n",
    "val_score = cross_val_score(\n",
    "    estimator = lgb_model, \n",
    "    X = X, y = y, \n",
    "    cv = cv, \n",
    "    groups = groups,\n",
    "    scoring = 'roc_auc',  # ROC AUC Score\n",
    ")\n",
    "\n",
    "print(f'Cross-validation AUC score: {np.mean(val_score):.4f}')"
   ]
  },
  {
   "cell_type": "code",
   "execution_count": 16,
   "id": "fa00b47f",
   "metadata": {
    "execution": {
     "iopub.execute_input": "2024-09-03T09:23:34.719195Z",
     "iopub.status.busy": "2024-09-03T09:23:34.718876Z",
     "iopub.status.idle": "2024-09-03T09:23:48.255951Z",
     "shell.execute_reply": "2024-09-03T09:23:48.254946Z"
    },
    "papermill": {
     "duration": 13.550843,
     "end_time": "2024-09-03T09:23:48.258576",
     "exception": false,
     "start_time": "2024-09-03T09:23:34.707733",
     "status": "completed"
    },
    "tags": []
   },
   "outputs": [
    {
     "data": {
      "text/html": [
       "<style>#sk-container-id-1 {color: black;background-color: white;}#sk-container-id-1 pre{padding: 0;}#sk-container-id-1 div.sk-toggleable {background-color: white;}#sk-container-id-1 label.sk-toggleable__label {cursor: pointer;display: block;width: 100%;margin-bottom: 0;padding: 0.3em;box-sizing: border-box;text-align: center;}#sk-container-id-1 label.sk-toggleable__label-arrow:before {content: \"▸\";float: left;margin-right: 0.25em;color: #696969;}#sk-container-id-1 label.sk-toggleable__label-arrow:hover:before {color: black;}#sk-container-id-1 div.sk-estimator:hover label.sk-toggleable__label-arrow:before {color: black;}#sk-container-id-1 div.sk-toggleable__content {max-height: 0;max-width: 0;overflow: hidden;text-align: left;background-color: #f0f8ff;}#sk-container-id-1 div.sk-toggleable__content pre {margin: 0.2em;color: black;border-radius: 0.25em;background-color: #f0f8ff;}#sk-container-id-1 input.sk-toggleable__control:checked~div.sk-toggleable__content {max-height: 200px;max-width: 100%;overflow: auto;}#sk-container-id-1 input.sk-toggleable__control:checked~label.sk-toggleable__label-arrow:before {content: \"▾\";}#sk-container-id-1 div.sk-estimator input.sk-toggleable__control:checked~label.sk-toggleable__label {background-color: #d4ebff;}#sk-container-id-1 div.sk-label input.sk-toggleable__control:checked~label.sk-toggleable__label {background-color: #d4ebff;}#sk-container-id-1 input.sk-hidden--visually {border: 0;clip: rect(1px 1px 1px 1px);clip: rect(1px, 1px, 1px, 1px);height: 1px;margin: -1px;overflow: hidden;padding: 0;position: absolute;width: 1px;}#sk-container-id-1 div.sk-estimator {font-family: monospace;background-color: #f0f8ff;border: 1px dotted black;border-radius: 0.25em;box-sizing: border-box;margin-bottom: 0.5em;}#sk-container-id-1 div.sk-estimator:hover {background-color: #d4ebff;}#sk-container-id-1 div.sk-parallel-item::after {content: \"\";width: 100%;border-bottom: 1px solid gray;flex-grow: 1;}#sk-container-id-1 div.sk-label:hover label.sk-toggleable__label {background-color: #d4ebff;}#sk-container-id-1 div.sk-serial::before {content: \"\";position: absolute;border-left: 1px solid gray;box-sizing: border-box;top: 0;bottom: 0;left: 50%;z-index: 0;}#sk-container-id-1 div.sk-serial {display: flex;flex-direction: column;align-items: center;background-color: white;padding-right: 0.2em;padding-left: 0.2em;position: relative;}#sk-container-id-1 div.sk-item {position: relative;z-index: 1;}#sk-container-id-1 div.sk-parallel {display: flex;align-items: stretch;justify-content: center;background-color: white;position: relative;}#sk-container-id-1 div.sk-item::before, #sk-container-id-1 div.sk-parallel-item::before {content: \"\";position: absolute;border-left: 1px solid gray;box-sizing: border-box;top: 0;bottom: 0;left: 50%;z-index: -1;}#sk-container-id-1 div.sk-parallel-item {display: flex;flex-direction: column;z-index: 1;position: relative;background-color: white;}#sk-container-id-1 div.sk-parallel-item:first-child::after {align-self: flex-end;width: 50%;}#sk-container-id-1 div.sk-parallel-item:last-child::after {align-self: flex-start;width: 50%;}#sk-container-id-1 div.sk-parallel-item:only-child::after {width: 0;}#sk-container-id-1 div.sk-dashed-wrapped {border: 1px dashed gray;margin: 0 0.4em 0.5em 0.4em;box-sizing: border-box;padding-bottom: 0.4em;background-color: white;}#sk-container-id-1 div.sk-label label {font-family: monospace;font-weight: bold;display: inline-block;line-height: 1.2em;}#sk-container-id-1 div.sk-label-container {text-align: center;}#sk-container-id-1 div.sk-container {/* jupyter's `normalize.less` sets `[hidden] { display: none; }` but bootstrap.min.css set `[hidden] { display: none !important; }` so we also need the `!important` here to be able to override the default hidden behavior on the sphinx rendered scikit-learn.org. See: https://github.com/scikit-learn/scikit-learn/issues/21755 */display: inline-block !important;position: relative;}#sk-container-id-1 div.sk-text-repr-fallback {display: none;}</style><div id=\"sk-container-id-1\" class=\"sk-top-container\"><div class=\"sk-text-repr-fallback\"><pre>Pipeline(steps=[(&#x27;sampler_1&#x27;,\n",
       "                 RandomOverSampler(random_state=42, sampling_strategy=0.003)),\n",
       "                (&#x27;sampler_2&#x27;,\n",
       "                 RandomUnderSampler(random_state=42, sampling_strategy=0.01)),\n",
       "                (&#x27;classifier&#x27;,\n",
       "                 LGBMClassifier(bagging_fraction=0.7738954452473223,\n",
       "                                bagging_freq=4,\n",
       "                                colsample_bynode=0.4025961355653304,\n",
       "                                colsample_bytree=0.8329551585827726,\n",
       "                                lambda_l1=0.08758718919397321,\n",
       "                                lambda_l2=0.0039689175176025465,\n",
       "                                learning_rate=0.03231007103195577, max_depth=4,\n",
       "                                min_data_in_leaf=85, n_iter=200, num_leaves=103,\n",
       "                                objective=&#x27;binary&#x27;, random_state=42,\n",
       "                                scale_pos_weight=2.7984184778875543,\n",
       "                                verbosity=-1))])</pre><b>In a Jupyter environment, please rerun this cell to show the HTML representation or trust the notebook. <br />On GitHub, the HTML representation is unable to render, please try loading this page with nbviewer.org.</b></div><div class=\"sk-container\" hidden><div class=\"sk-item sk-dashed-wrapped\"><div class=\"sk-label-container\"><div class=\"sk-label sk-toggleable\"><input class=\"sk-toggleable__control sk-hidden--visually\" id=\"sk-estimator-id-1\" type=\"checkbox\" ><label for=\"sk-estimator-id-1\" class=\"sk-toggleable__label sk-toggleable__label-arrow\">Pipeline</label><div class=\"sk-toggleable__content\"><pre>Pipeline(steps=[(&#x27;sampler_1&#x27;,\n",
       "                 RandomOverSampler(random_state=42, sampling_strategy=0.003)),\n",
       "                (&#x27;sampler_2&#x27;,\n",
       "                 RandomUnderSampler(random_state=42, sampling_strategy=0.01)),\n",
       "                (&#x27;classifier&#x27;,\n",
       "                 LGBMClassifier(bagging_fraction=0.7738954452473223,\n",
       "                                bagging_freq=4,\n",
       "                                colsample_bynode=0.4025961355653304,\n",
       "                                colsample_bytree=0.8329551585827726,\n",
       "                                lambda_l1=0.08758718919397321,\n",
       "                                lambda_l2=0.0039689175176025465,\n",
       "                                learning_rate=0.03231007103195577, max_depth=4,\n",
       "                                min_data_in_leaf=85, n_iter=200, num_leaves=103,\n",
       "                                objective=&#x27;binary&#x27;, random_state=42,\n",
       "                                scale_pos_weight=2.7984184778875543,\n",
       "                                verbosity=-1))])</pre></div></div></div><div class=\"sk-serial\"><div class=\"sk-item\"><div class=\"sk-estimator sk-toggleable\"><input class=\"sk-toggleable__control sk-hidden--visually\" id=\"sk-estimator-id-2\" type=\"checkbox\" ><label for=\"sk-estimator-id-2\" class=\"sk-toggleable__label sk-toggleable__label-arrow\">RandomOverSampler</label><div class=\"sk-toggleable__content\"><pre>RandomOverSampler(random_state=42, sampling_strategy=0.003)</pre></div></div></div><div class=\"sk-item\"><div class=\"sk-estimator sk-toggleable\"><input class=\"sk-toggleable__control sk-hidden--visually\" id=\"sk-estimator-id-3\" type=\"checkbox\" ><label for=\"sk-estimator-id-3\" class=\"sk-toggleable__label sk-toggleable__label-arrow\">RandomUnderSampler</label><div class=\"sk-toggleable__content\"><pre>RandomUnderSampler(random_state=42, sampling_strategy=0.01)</pre></div></div></div><div class=\"sk-item\"><div class=\"sk-estimator sk-toggleable\"><input class=\"sk-toggleable__control sk-hidden--visually\" id=\"sk-estimator-id-4\" type=\"checkbox\" ><label for=\"sk-estimator-id-4\" class=\"sk-toggleable__label sk-toggleable__label-arrow\">LGBMClassifier</label><div class=\"sk-toggleable__content\"><pre>LGBMClassifier(bagging_fraction=0.7738954452473223, bagging_freq=4,\n",
       "               colsample_bynode=0.4025961355653304,\n",
       "               colsample_bytree=0.8329551585827726,\n",
       "               lambda_l1=0.08758718919397321, lambda_l2=0.0039689175176025465,\n",
       "               learning_rate=0.03231007103195577, max_depth=4,\n",
       "               min_data_in_leaf=85, n_iter=200, num_leaves=103,\n",
       "               objective=&#x27;binary&#x27;, random_state=42,\n",
       "               scale_pos_weight=2.7984184778875543, verbosity=-1)</pre></div></div></div></div></div></div></div>"
      ],
      "text/plain": [
       "Pipeline(steps=[('sampler_1',\n",
       "                 RandomOverSampler(random_state=42, sampling_strategy=0.003)),\n",
       "                ('sampler_2',\n",
       "                 RandomUnderSampler(random_state=42, sampling_strategy=0.01)),\n",
       "                ('classifier',\n",
       "                 LGBMClassifier(bagging_fraction=0.7738954452473223,\n",
       "                                bagging_freq=4,\n",
       "                                colsample_bynode=0.4025961355653304,\n",
       "                                colsample_bytree=0.8329551585827726,\n",
       "                                lambda_l1=0.08758718919397321,\n",
       "                                lambda_l2=0.0039689175176025465,\n",
       "                                learning_rate=0.03231007103195577, max_depth=4,\n",
       "                                min_data_in_leaf=85, n_iter=200, num_leaves=103,\n",
       "                                objective='binary', random_state=42,\n",
       "                                scale_pos_weight=2.7984184778875543,\n",
       "                                verbosity=-1))])"
      ]
     },
     "execution_count": 16,
     "metadata": {},
     "output_type": "execute_result"
    }
   ],
   "source": [
    "lgb_model.fit(X, y)"
   ]
  },
  {
   "cell_type": "markdown",
   "id": "2e272356",
   "metadata": {
    "papermill": {
     "duration": 0.010423,
     "end_time": "2024-09-03T09:23:48.281793",
     "exception": false,
     "start_time": "2024-09-03T09:23:48.271370",
     "status": "completed"
    },
    "tags": []
   },
   "source": [
    "**Data Sampling 전략 (RandomOverSampler, RandomUnderSampler)** <br>\n",
    "Data의 Class 불균형 문제를 해결하기 위해 먼저 소수 Class를 Oversampling하고, 이후 다수 Class를 Undersmapling하여 Data 균형을 맞추고 있다. <br>\n",
    "**LightGBM Model (LGBMClassifier)** <br>\n",
    "다양한 하이퍼파라미터 설정을 통해 Learning Rate, Regularization, Tree의 Depth, Node 수 등을 조절하여 Model의 성능을 최적화하고 있다. <br> \n",
    "scale_pos_weight 및 Sampling 전략이 Class 불균형 문제를 보정하도록 설계되어 있다.\n",
    "    \n",
    "\n",
    "### Pipeline\n",
    "\n",
    "Pipeline은 여러 Data 처리 단계와 Model을 순차적으로 결합하여 관리할 수 있는 도구이다. <br>\n",
    "이 Pipeline은 Data의 Class 불균형을 먼저 조정한 후에 LightGBM 분류기를 사용하여 Train을 진행한다. <br>\n",
    "단계별로 Oversampling과 Undersmapling을 조정하여 Class 비율을 변경하고, LGBMClassifier는 이러한 전처리된 Data를 사용하여 Train한다.\n",
    "\n",
    "- **sampler_1 : RandomOverSampler**\n",
    "    - Class 불균형 문제를 해결하기 위해 Sampling 전략으로 Oversampling을 수행하는 단계이다.\n",
    "- **sampler_2 : RandomUnderSampler**\n",
    "    - Oversampling 이후에 다시 Undersmapling을 수행하는 단계이다.\n",
    "- **classifier: LGBMClassifier**\n",
    "    - LightGBM Model을 사용하여 분류를 수행하는 단계이다.\n",
    "\n",
    "### RandomOverSampler\n",
    "\n",
    "RandomOverSampler는 Oversampling을 통해 소수 Class의 Data 수를 증가시키는 도구이다. <br>\n",
    "이 단계는 소수 Class의 Data 수가 적기 때문에 Data의 불균형을 완화하기 위해 사용된다. <br> \n",
    "Oversampling을 통해 소수 Class의 Data 수를 늘리고, Train 시 해당 Class가 과소평가되지 않도록 한다.\n",
    "\n",
    "- **random_state = 42**    \n",
    "    Random Seed를 설정하여 결과의 재현성을 보장한다.    \n",
    "- **sampling_strategy = 0.003**    \n",
    "    소수 Class의 샘플 수를 증가시키는 비율을 나타낸다.    \n",
    "    소수 Class가 전체 Data의 약 0.3%가 될 때까지 Sampling을 수행한다는 의미이다.\n",
    "    \n",
    "### RandomUnderSampler\n",
    "\n",
    "RandomUnderSampler는 Oversampling된 Data를 다시 Undersmapling하여 다수 Class의 Data 수를 줄이는 도구이다. <br>\n",
    "Oversampling 후 Data의 양이 매우 많아질 수 있으므로, Undersmapling을 통해 다시 다수 Class의 Data를 줄여서 Data 양을 조정하고 Train 효율을 높인다.\n",
    "\n",
    "- **random_state = 42**  \n",
    "    Random Seed를 설정하여 결과의 재현성을 보장한다.    \n",
    "- **sampling_strategy = 0.01**    \n",
    "    다수 Class의 샘플 수를 감소시키는 비율을 나타낸다.    \n",
    "    다수 Class가 전체 Data의 약 1%가 될 때까지 Sampling을 수행한다는 의미이다.\n",
    "    \n",
    "\n",
    "### LGBMClassifier\n",
    "\n",
    "LGBMClassifier는 LightGBM(Light Gradient Boosting Machine) 분류 Model이다. <br>\n",
    "주어진 Hyperparameter를 통해 Train이 수행된다. <br>\n",
    "이 Model은 여러 하이퍼파라미터를 통해 Class 불균형 문제를 해결하고, Learning Rate와 Regularization, Tree의 Depth, Node 수 등을 조절하여 Model의 성능을 최적화하려고 한다. <br>\n",
    "Class 불균형을 해결하기 위해 scale_pos_weight가 설정되어 있고, 여러 Regularization 기법을 통해 Model이 과적합되지 않도록 하고 있다.\n",
    "\n",
    "- **bagging_fraction = 0.7739**    \n",
    "    Sampling 비율을 설정하여 일부 Data만 사용하여 Model을 Train시킨다. 이는 과적합을 방지하기 위한 방법이다.    \n",
    "- **bagging_freq = 4**    \n",
    "    몇 번째 반복마다 Sampling을 수행할지를 설정한다. 4이면 매 4번째 반복마다 Sampling이 수행된다.    \n",
    "- **colsample_bynode = 0.4026, colsample_bytree = 0.8329**    \n",
    "    각 Tree 및 각 Node에서 사용할 Feature의 비율을 설정한다. 이는 Model의 다변성을 높이고 과적합을 방지하기 위한 설정이다.    \n",
    "- **lambda_l1=0.0876, lambda_l2 = 0.0039**   \n",
    "    L1 및 L2 Regularization 항의 강도를 설정하여 Model의 복잡성을 제어한다.   \n",
    "- **learning_rate = 0.0323**    \n",
    "    Train 속도를 결정하는 Learning Rate이다. 값이 작을수록 Train이 천천히 진행되며, 이는 성능 향상과 일반화에 도움이 될 수 있다.\n",
    "- **max_depth = 4**    \n",
    "    Tree의 최대 Depth를 설정한다. 이 값이 작을수록 Model의 복잡성이 줄어든다.    \n",
    "- **min_data_in_leaf = 85**    \n",
    "    각 Leaf Node에 포함될 최소 Data 포인트 수를 설정한다. 이는 Model의 과적합을 방지하기 위한 방법이다.    \n",
    "- **n_iter = 200**    \n",
    "    Train 반복 수를 설정한다.    \n",
    "- **num_leaves = 103**    \n",
    "    하나의 Tree에서 사용할 최대 Leaf 수이다. 이 값이 커지면 Tree의 복잡도가 증가할 수 있다.    \n",
    "- **objective = 'binary'**    \n",
    "    Binary Classification 문제를 해결하는 것을 목표로 한다.    \n",
    "- **random_state = 42**    \n",
    "    Random Seed를 설정하여 결과의 재현성을 보장한다.    \n",
    "- **scale_pos_weight = 2.7984**    \n",
    "    Class 불균형을 보정하기 위한 가중치이다. 이는 소수 Class의 가중치를 늘려주는 역할을 한다.    \n",
    "- **verbosity = -1**   \n",
    "    Log 출력을 제어한다. 1은 출력하지 않음을 의미한다"
   ]
  },
  {
   "cell_type": "markdown",
   "id": "1dc683ae",
   "metadata": {
    "papermill": {
     "duration": 0.010092,
     "end_time": "2024-09-03T09:23:48.302231",
     "exception": false,
     "start_time": "2024-09-03T09:23:48.292139",
     "status": "completed"
    },
    "tags": []
   },
   "source": [
    "## Submission"
   ]
  },
  {
   "cell_type": "code",
   "execution_count": 17,
   "id": "459065fb",
   "metadata": {
    "execution": {
     "iopub.execute_input": "2024-09-03T09:23:48.324562Z",
     "iopub.status.busy": "2024-09-03T09:23:48.324165Z",
     "iopub.status.idle": "2024-09-03T09:23:48.377744Z",
     "shell.execute_reply": "2024-09-03T09:23:48.376723Z"
    },
    "papermill": {
     "duration": 0.067694,
     "end_time": "2024-09-03T09:23:48.380180",
     "exception": false,
     "start_time": "2024-09-03T09:23:48.312486",
     "status": "completed"
    },
    "tags": []
   },
   "outputs": [
    {
     "data": {
      "text/html": [
       "<div>\n",
       "<style scoped>\n",
       "    .dataframe tbody tr th:only-of-type {\n",
       "        vertical-align: middle;\n",
       "    }\n",
       "\n",
       "    .dataframe tbody tr th {\n",
       "        vertical-align: top;\n",
       "    }\n",
       "\n",
       "    .dataframe thead th {\n",
       "        text-align: right;\n",
       "    }\n",
       "</style>\n",
       "<table border=\"1\" class=\"dataframe\">\n",
       "  <thead>\n",
       "    <tr style=\"text-align: right;\">\n",
       "      <th></th>\n",
       "      <th>target</th>\n",
       "    </tr>\n",
       "    <tr>\n",
       "      <th>isic_id</th>\n",
       "      <th></th>\n",
       "    </tr>\n",
       "  </thead>\n",
       "  <tbody>\n",
       "    <tr>\n",
       "      <th>ISIC_0015657</th>\n",
       "      <td>0.788470</td>\n",
       "    </tr>\n",
       "    <tr>\n",
       "      <th>ISIC_0015729</th>\n",
       "      <td>0.413181</td>\n",
       "    </tr>\n",
       "    <tr>\n",
       "      <th>ISIC_0015740</th>\n",
       "      <td>0.652616</td>\n",
       "    </tr>\n",
       "  </tbody>\n",
       "</table>\n",
       "</div>"
      ],
      "text/plain": [
       "                target\n",
       "isic_id               \n",
       "ISIC_0015657  0.788470\n",
       "ISIC_0015729  0.413181\n",
       "ISIC_0015740  0.652616"
      ]
     },
     "execution_count": 17,
     "metadata": {},
     "output_type": "execute_result"
    }
   ],
   "source": [
    "df_subm['target'] = lgb_model.predict_proba(df_test[feature_cols])[:, 1]\n",
    "df_subm.to_csv('submission.csv')\n",
    "df_subm.head()"
   ]
  },
  {
   "cell_type": "markdown",
   "id": "f76e5730",
   "metadata": {
    "papermill": {
     "duration": 0.011287,
     "end_time": "2024-09-03T09:23:48.404911",
     "exception": false,
     "start_time": "2024-09-03T09:23:48.393624",
     "status": "completed"
    },
    "tags": []
   },
   "source": [
    "## Feature Inportance\n",
    "\n",
    "LightGBM Model의 Feature 중요도는 각 Feature가 Model의 예측에 얼마나 기여했는지를 나타낸다. "
   ]
  },
  {
   "cell_type": "code",
   "execution_count": 18,
   "id": "0687188e",
   "metadata": {
    "execution": {
     "iopub.execute_input": "2024-09-03T09:23:48.428806Z",
     "iopub.status.busy": "2024-09-03T09:23:48.427782Z",
     "iopub.status.idle": "2024-09-03T09:24:24.901894Z",
     "shell.execute_reply": "2024-09-03T09:24:24.900932Z"
    },
    "papermill": {
     "duration": 36.500193,
     "end_time": "2024-09-03T09:24:24.916072",
     "exception": false,
     "start_time": "2024-09-03T09:23:48.415879",
     "status": "completed"
    },
    "tags": []
   },
   "outputs": [
    {
     "name": "stdout",
     "output_type": "stream",
     "text": [
      "                               feature  importance\n",
      "122                  count_per_patient          81\n",
      "61             age_approx_patient_norm          70\n",
      "69               tbp_lv_H_patient_norm          62\n",
      "36                        hue_contrast          49\n",
      "102  position_distance_3d_patient_norm          46\n",
      "..                                 ...         ...\n",
      "156                          onehot_31           0\n",
      "159                          onehot_34           0\n",
      "161                          onehot_36           0\n",
      "162                          onehot_37           0\n",
      "163                          onehot_38           0\n",
      "\n",
      "[172 rows x 2 columns]\n"
     ]
    }
   ],
   "source": [
    "'''\n",
    "pd.set_option('display.max_rows', None)  # Row\n",
    "pd.set_option('display.max_columns', None)  # Column\n",
    "pd.set_option('display.width', 1000)  # Output Width\n",
    "'''\n",
    "\n",
    "lgb_model.named_steps['classifier'].fit(X, y)  # Model Re-Train\n",
    "importance = lgb_model.named_steps['classifier'].feature_importances_\n",
    "feature_importance = pd.DataFrame({'feature': X.columns, 'importance': importance}).sort_values(by='importance', ascending=False)\n",
    "\n",
    "print(feature_importance)"
   ]
  },
  {
   "cell_type": "markdown",
   "id": "4a3b32c5",
   "metadata": {
    "papermill": {
     "duration": 0.01038,
     "end_time": "2024-09-03T09:24:24.936945",
     "exception": false,
     "start_time": "2024-09-03T09:24:24.926565",
     "status": "completed"
    },
    "tags": []
   },
   "source": [
    "## Feature Vector and Predicted Prob\n",
    "\n",
    "각 ID마다 Feature Vector와 예측 확률을 계산한다. <br>\n",
    "'predicted_prob' = 예측된 확률 <br>\n",
    "'feature_vector' = Feature Vector"
   ]
  },
  {
   "cell_type": "code",
   "execution_count": 19,
   "id": "94543168",
   "metadata": {
    "execution": {
     "iopub.execute_input": "2024-09-03T09:24:24.959820Z",
     "iopub.status.busy": "2024-09-03T09:24:24.959445Z",
     "iopub.status.idle": "2024-09-03T09:24:28.074079Z",
     "shell.execute_reply": "2024-09-03T09:24:28.073273Z"
    },
    "papermill": {
     "duration": 3.128878,
     "end_time": "2024-09-03T09:24:28.076494",
     "exception": false,
     "start_time": "2024-09-03T09:24:24.947616",
     "status": "completed"
    },
    "tags": []
   },
   "outputs": [],
   "source": [
    "# Predict and Output Feature Vectors\n",
    "# 각 ID마다 추출된 Feature Vector는 X.value로 Vectorizing 되어 'featrue_vector' Column에 저장된다.\n",
    "# lgb_model.predict_proba(X)[:, 1]로 예측된 확률을 추출해 'predicted_prob' Column에 저장한다. \n",
    "df_train['predicted_prob'] = lgb_model.predict_proba(X)[:, 1]\n",
    "# list(X.values)를 사용해 각 Feature Vector를 List 형식으로 저장한다. \n",
    "df_train['feature_vector'] = list(X.values) "
   ]
  },
  {
   "cell_type": "code",
   "execution_count": 20,
   "id": "62b1bbaf",
   "metadata": {
    "execution": {
     "iopub.execute_input": "2024-09-03T09:24:28.099646Z",
     "iopub.status.busy": "2024-09-03T09:24:28.099117Z",
     "iopub.status.idle": "2024-09-03T09:24:28.115366Z",
     "shell.execute_reply": "2024-09-03T09:24:28.114431Z"
    },
    "papermill": {
     "duration": 0.030062,
     "end_time": "2024-09-03T09:24:28.117628",
     "exception": false,
     "start_time": "2024-09-03T09:24:28.087566",
     "status": "completed"
    },
    "tags": []
   },
   "outputs": [],
   "source": [
    "# 'target' : 실제 Target 값\n",
    "# 'predicted_prob' : 예측된 확률\n",
    "# 'feature_vector' : ID마다 Feature Vector(List)\n",
    "feature_output = df_train[['target', 'predicted_prob', 'feature_vector']]"
   ]
  },
  {
   "cell_type": "code",
   "execution_count": 21,
   "id": "3bb26a7c",
   "metadata": {
    "execution": {
     "iopub.execute_input": "2024-09-03T09:24:28.151690Z",
     "iopub.status.busy": "2024-09-03T09:24:28.150641Z",
     "iopub.status.idle": "2024-09-03T09:24:28.185794Z",
     "shell.execute_reply": "2024-09-03T09:24:28.184719Z"
    },
    "papermill": {
     "duration": 0.055052,
     "end_time": "2024-09-03T09:24:28.187677",
     "exception": false,
     "start_time": "2024-09-03T09:24:28.132625",
     "status": "completed"
    },
    "tags": []
   },
   "outputs": [
    {
     "data": {
      "text/html": [
       "<div>\n",
       "<style scoped>\n",
       "    .dataframe tbody tr th:only-of-type {\n",
       "        vertical-align: middle;\n",
       "    }\n",
       "\n",
       "    .dataframe tbody tr th {\n",
       "        vertical-align: top;\n",
       "    }\n",
       "\n",
       "    .dataframe thead th {\n",
       "        text-align: right;\n",
       "    }\n",
       "</style>\n",
       "<table border=\"1\" class=\"dataframe\">\n",
       "  <thead>\n",
       "    <tr style=\"text-align: right;\">\n",
       "      <th></th>\n",
       "      <th>target</th>\n",
       "      <th>predicted_prob</th>\n",
       "      <th>feature_vector</th>\n",
       "    </tr>\n",
       "    <tr>\n",
       "      <th>isic_id</th>\n",
       "      <th></th>\n",
       "      <th></th>\n",
       "      <th></th>\n",
       "    </tr>\n",
       "  </thead>\n",
       "  <tbody>\n",
       "    <tr>\n",
       "      <th>ISIC_0015670</th>\n",
       "      <td>0</td>\n",
       "      <td>0.000155</td>\n",
       "      <td>[60.0, 3.04, 20.2444222995213, 16.261975179121...</td>\n",
       "    </tr>\n",
       "    <tr>\n",
       "      <th>ISIC_0015845</th>\n",
       "      <td>0</td>\n",
       "      <td>0.447526</td>\n",
       "      <td>[60.0, 1.1, 31.71257, 25.36474, 26.331, 24.549...</td>\n",
       "    </tr>\n",
       "    <tr>\n",
       "      <th>ISIC_0015864</th>\n",
       "      <td>0</td>\n",
       "      <td>0.000163</td>\n",
       "      <td>[60.0, 3.4, 22.57583, 17.12817, 37.97046, 33.4...</td>\n",
       "    </tr>\n",
       "    <tr>\n",
       "      <th>ISIC_0015902</th>\n",
       "      <td>0</td>\n",
       "      <td>0.001116</td>\n",
       "      <td>[65.0, 3.22, 14.2423288822174, 12.164757274256...</td>\n",
       "    </tr>\n",
       "    <tr>\n",
       "      <th>ISIC_0024200</th>\n",
       "      <td>0</td>\n",
       "      <td>0.000005</td>\n",
       "      <td>[55.0, 2.73, 24.72552, 20.05747, 26.4649, 25.7...</td>\n",
       "    </tr>\n",
       "    <tr>\n",
       "      <th>...</th>\n",
       "      <td>...</td>\n",
       "      <td>...</td>\n",
       "      <td>...</td>\n",
       "    </tr>\n",
       "    <tr>\n",
       "      <th>ISIC_9999937</th>\n",
       "      <td>0</td>\n",
       "      <td>0.004151</td>\n",
       "      <td>[70.0, 6.8, 22.5743345979784, 14.9446663205131...</td>\n",
       "    </tr>\n",
       "    <tr>\n",
       "      <th>ISIC_9999951</th>\n",
       "      <td>0</td>\n",
       "      <td>0.000216</td>\n",
       "      <td>[60.0, 3.11, 19.97764, 16.02687, 34.15884, 31....</td>\n",
       "    </tr>\n",
       "    <tr>\n",
       "      <th>ISIC_9999960</th>\n",
       "      <td>0</td>\n",
       "      <td>0.000345</td>\n",
       "      <td>[65.0, 2.05, 17.3325667219097, 12.364397422281...</td>\n",
       "    </tr>\n",
       "    <tr>\n",
       "      <th>ISIC_9999964</th>\n",
       "      <td>0</td>\n",
       "      <td>0.000052</td>\n",
       "      <td>[30.0, 2.8, 22.28857, 9.564721, 28.4312, 27.01...</td>\n",
       "    </tr>\n",
       "    <tr>\n",
       "      <th>ISIC_9999967</th>\n",
       "      <td>0</td>\n",
       "      <td>0.000455</td>\n",
       "      <td>[50.0, 3.3, 16.7929, 11.43473, 21.45722, 21.21...</td>\n",
       "    </tr>\n",
       "  </tbody>\n",
       "</table>\n",
       "<p>401059 rows × 3 columns</p>\n",
       "</div>"
      ],
      "text/plain": [
       "              target  predicted_prob                                     feature_vector\n",
       "isic_id                                                                                \n",
       "ISIC_0015670       0        0.000155  [60.0, 3.04, 20.2444222995213, 16.261975179121...\n",
       "ISIC_0015845       0        0.447526  [60.0, 1.1, 31.71257, 25.36474, 26.331, 24.549...\n",
       "ISIC_0015864       0        0.000163  [60.0, 3.4, 22.57583, 17.12817, 37.97046, 33.4...\n",
       "ISIC_0015902       0        0.001116  [65.0, 3.22, 14.2423288822174, 12.164757274256...\n",
       "ISIC_0024200       0        0.000005  [55.0, 2.73, 24.72552, 20.05747, 26.4649, 25.7...\n",
       "...              ...             ...                                                ...\n",
       "ISIC_9999937       0        0.004151  [70.0, 6.8, 22.5743345979784, 14.9446663205131...\n",
       "ISIC_9999951       0        0.000216  [60.0, 3.11, 19.97764, 16.02687, 34.15884, 31....\n",
       "ISIC_9999960       0        0.000345  [65.0, 2.05, 17.3325667219097, 12.364397422281...\n",
       "ISIC_9999964       0        0.000052  [30.0, 2.8, 22.28857, 9.564721, 28.4312, 27.01...\n",
       "ISIC_9999967       0        0.000455  [50.0, 3.3, 16.7929, 11.43473, 21.45722, 21.21...\n",
       "\n",
       "[401059 rows x 3 columns]"
      ]
     },
     "execution_count": 21,
     "metadata": {},
     "output_type": "execute_result"
    }
   ],
   "source": [
    "feature_output"
   ]
  },
  {
   "cell_type": "code",
   "execution_count": 22,
   "id": "12d32393",
   "metadata": {
    "_kg_hide-input": true,
    "_kg_hide-output": true,
    "execution": {
     "iopub.execute_input": "2024-09-03T09:24:28.210768Z",
     "iopub.status.busy": "2024-09-03T09:24:28.210456Z",
     "iopub.status.idle": "2024-09-03T09:24:28.216472Z",
     "shell.execute_reply": "2024-09-03T09:24:28.215614Z"
    },
    "papermill": {
     "duration": 0.019501,
     "end_time": "2024-09-03T09:24:28.218432",
     "exception": false,
     "start_time": "2024-09-03T09:24:28.198931",
     "status": "completed"
    },
    "tags": []
   },
   "outputs": [
    {
     "data": {
      "text/plain": [
       "'\\nfeature_output.to_csv(\\'feature_and_probabilities.csv\\', index = False)\\nprint(\"Feature vectors and probabilities have been saved to \\'feature_and_probabilities.csv\\'\")\\n'"
      ]
     },
     "execution_count": 22,
     "metadata": {},
     "output_type": "execute_result"
    }
   ],
   "source": [
    "# Save to CSV for Analysis\n",
    "# 'feature_and_probabilities.csv'에는 'target', 'predicted_prob', 'ID마다 Feture Vector'가 포함되어 있다. \n",
    "'''\n",
    "feature_output.to_csv('feature_and_probabilities.csv', index = False)\n",
    "print(\"Feature vectors and probabilities have been saved to 'feature_and_probabilities.csv'\")\n",
    "'''"
   ]
  }
 ],
 "metadata": {
  "kaggle": {
   "accelerator": "nvidiaTeslaT4",
   "dataSources": [
    {
     "databundleVersionId": 9094797,
     "sourceId": 63056,
     "sourceType": "competition"
    },
    {
     "sourceId": 186147615,
     "sourceType": "kernelVersion"
    },
    {
     "sourceId": 186149019,
     "sourceType": "kernelVersion"
    },
    {
     "sourceId": 187730674,
     "sourceType": "kernelVersion"
    },
    {
     "sourceId": 188543089,
     "sourceType": "kernelVersion"
    },
    {
     "sourceId": 188543756,
     "sourceType": "kernelVersion"
    },
    {
     "sourceId": 188602899,
     "sourceType": "kernelVersion"
    },
    {
     "sourceId": 188603204,
     "sourceType": "kernelVersion"
    },
    {
     "sourceId": 188603902,
     "sourceType": "kernelVersion"
    }
   ],
   "dockerImageVersionId": 30762,
   "isGpuEnabled": true,
   "isInternetEnabled": false,
   "language": "python",
   "sourceType": "notebook"
  },
  "kernelspec": {
   "display_name": "Python 3",
   "language": "python",
   "name": "python3"
  },
  "language_info": {
   "codemirror_mode": {
    "name": "ipython",
    "version": 3
   },
   "file_extension": ".py",
   "mimetype": "text/x-python",
   "name": "python",
   "nbconvert_exporter": "python",
   "pygments_lexer": "ipython3",
   "version": "3.10.14"
  },
  "papermill": {
   "default_parameters": {},
   "duration": 218.20151,
   "end_time": "2024-09-03T09:24:29.148989",
   "environment_variables": {},
   "exception": null,
   "input_path": "__notebook__.ipynb",
   "output_path": "__notebook__.ipynb",
   "parameters": {},
   "start_time": "2024-09-03T09:20:50.947479",
   "version": "2.6.0"
  }
 },
 "nbformat": 4,
 "nbformat_minor": 5
}
